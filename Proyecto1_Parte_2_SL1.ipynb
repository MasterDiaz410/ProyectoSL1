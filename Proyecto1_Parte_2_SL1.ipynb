{
  "nbformat": 4,
  "nbformat_minor": 0,
  "metadata": {
    "kernelspec": {
      "display_name": "Python 3",
      "language": "python",
      "name": "python3"
    },
    "language_info": {
      "codemirror_mode": {
        "name": "ipython",
        "version": 3
      },
      "file_extension": ".py",
      "mimetype": "text/x-python",
      "name": "python",
      "nbconvert_exporter": "python",
      "pygments_lexer": "ipython3",
      "version": "3.7.4"
    },
    "colab": {
      "name": "Proyecto1 Parte 2 SL1.ipynb",
      "provenance": [],
      "include_colab_link": true
    }
  },
  "cells": [
    {
      "cell_type": "markdown",
      "metadata": {
        "id": "view-in-github",
        "colab_type": "text"
      },
      "source": [
        "<a href=\"https://colab.research.google.com/github/MasterDiaz410/ProyectoSL1/blob/master/Proyecto1_Parte_2_SL1.ipynb\" target=\"_parent\"><img src=\"https://colab.research.google.com/assets/colab-badge.svg\" alt=\"Open In Colab\"/></a>"
      ]
    },
    {
      "cell_type": "markdown",
      "metadata": {
        "id": "1-lBhN9HwdWY",
        "colab_type": "text"
      },
      "source": [
        "# Proyecto 1 parte 2"
      ]
    },
    {
      "cell_type": "code",
      "metadata": {
        "id": "-Rb5Xp9WwdWZ",
        "colab_type": "code",
        "colab": {}
      },
      "source": [
        "\n",
        "import numpy as np\n",
        "import pandas as pd\n",
        "from joblib import load\n",
        "from sklearn.metrics import accuracy_score\n",
        "from sklearn.metrics import mean_squared_error\n",
        "from sklearn.metrics import precision_score\n",
        "from sklearn.metrics import recall_score\n",
        "from sklearn.metrics import f1_score\n",
        "from sklearn.tree import DecisionTreeClassifier\n",
        "from sklearn import tree\n",
        "\n",
        "from scipy.stats import norm\n",
        "import math\n"
      ],
      "execution_count": 1,
      "outputs": []
    },
    {
      "cell_type": "code",
      "metadata": {
        "id": "pjhdpWux4RIl",
        "colab_type": "code",
        "colab": {}
      },
      "source": [
        "# https://pypi.python.org/pypi/pydot\n",
        "!apt-get -qq install -y graphviz && pip install -q pydot\n",
        "import pydot"
      ],
      "execution_count": 2,
      "outputs": []
    },
    {
      "cell_type": "code",
      "metadata": {
        "id": "cj560Jl3xOrN",
        "colab_type": "code",
        "colab": {
          "base_uri": "https://localhost:8080/",
          "height": 34
        },
        "outputId": "7bd756e4-17f0-45bf-a289-2d2690af387d"
      },
      "source": [
        "#montamos el contenido del drive\n",
        "from google.colab import drive \n",
        "drive.mount('/content/gdrive')"
      ],
      "execution_count": 3,
      "outputs": [
        {
          "output_type": "stream",
          "text": [
            "Drive already mounted at /content/gdrive; to attempt to forcibly remount, call drive.mount(\"/content/gdrive\", force_remount=True).\n"
          ],
          "name": "stdout"
        }
      ]
    },
    {
      "cell_type": "markdown",
      "metadata": {
        "id": "85nYs5EUw7hl",
        "colab_type": "text"
      },
      "source": [
        "**Cargando la informacion desde el drive**"
      ]
    },
    {
      "cell_type": "code",
      "metadata": {
        "id": "PHCulUbWwdWd",
        "colab_type": "code",
        "colab": {}
      },
      "source": [
        "# informacion generada por la parte 1 del proyecto\n",
        "\n",
        "modelTree = load('gdrive/My Drive/Colab Notebooks/proyecto1_modelos/_20200630_050442_log_decision_tree.joblib') \n",
        "\n",
        "media = pd.read_csv('gdrive/My Drive/Colab Notebooks/proyecto1_modelos/_20200630_050442_log_bayes/media.csv')\n",
        "desv = pd.read_csv('gdrive/My Drive/Colab Notebooks/proyecto1_modelos/_20200630_050442_log_bayes/desviacion.csv')\n",
        "prob = pd.read_csv('gdrive/My Drive/Colab Notebooks/proyecto1_modelos/_20200630_050442_log_bayes/probabilidades.csv')\n",
        "y_class = pd.read_csv('gdrive/My Drive/Colab Notebooks/proyecto1_modelos/_20200630_050442_log_bayes/class.csv')\n",
        "\n",
        "modelNaivesBayes = {\"mean\":media, \"stdev\":desv, \"probabilities\":prob, \"class\":y_class}\n",
        "\n",
        "xTestingData = pd.read_csv('gdrive/My Drive/Colab Notebooks/xTestingData.csv')\n",
        "yTestingData = pd.read_csv('gdrive/My Drive/Colab Notebooks/yTestingData.csv')"
      ],
      "execution_count": 4,
      "outputs": []
    },
    {
      "cell_type": "markdown",
      "metadata": {
        "id": "tESoyFm5wdWy",
        "colab_type": "text"
      },
      "source": [
        "# Funciones para realizar los calculos"
      ]
    },
    {
      "cell_type": "code",
      "metadata": {
        "id": "t9H50agewdW4",
        "colab_type": "code",
        "colab": {}
      },
      "source": [
        "def sigmoid(x):\n",
        "    return 1 / (1 + math.exp(-x))"
      ],
      "execution_count": 5,
      "outputs": []
    },
    {
      "cell_type": "code",
      "metadata": {
        "id": "73iURWh3wdWy",
        "colab_type": "code",
        "colab": {}
      },
      "source": [
        "def getArgMax(probability):\n",
        "    max_value = 0\n",
        "    argmax = -1\n",
        "    for (key, value) in probability.items():\n",
        "        if (key == 0):\n",
        "            max_value = max(value)\n",
        "            argmax = key\n",
        "        else:\n",
        "            tmp = max(value)\n",
        "            if(max_value < tmp):\n",
        "                max_value = tmp\n",
        "                argmax = key\n",
        "    return argmax"
      ],
      "execution_count": 6,
      "outputs": []
    },
    {
      "cell_type": "code",
      "metadata": {
        "id": "aOdivHjAwdW1",
        "colab_type": "code",
        "colab": {}
      },
      "source": [
        "def predictBayes(model, xTestingData):\n",
        "    y_predict = []\n",
        "    for i in range(xTestingData.shape[0]):\n",
        "        probability={}\n",
        "        for y_class in model[\"class\"].values:\n",
        "            y_class = int(y_class)\n",
        "            probability[y_class] = model[\"probabilities\"].iloc[y_class][0]\n",
        "            for index, _ in enumerate(xTestingData.iloc[i]):\n",
        "                probability[y_class] *= norm.pdf(xTestingData.iloc[i], model[\"mean\"].iloc[y_class, index], model[\"stdev\"].iloc[y_class, index])\n",
        "        y_predict.append(getArgMax(probability))\n",
        "    return np.array(y_predict)"
      ],
      "execution_count": 7,
      "outputs": []
    },
    {
      "cell_type": "code",
      "metadata": {
        "id": "ljkjLYRcwdW9",
        "colab_type": "code",
        "colab": {}
      },
      "source": [
        "def getMetrics(y_true, y_predict):\n",
        "    accuracy = accuracy_score(y_true, y_predict)\n",
        "    error = mean_squared_error(y_true, y_predict)\n",
        "    precision = precision_score(y_true, y_predict, average='weighted')\n",
        "    recall = recall_score(y_true, y_predict, average='weighted')\n",
        "    f1 = f1_score(y_true, y_predict, average=\"weighted\")\n",
        "    \n",
        "    return np.array([accuracy, error, precision, recall, f1])"
      ],
      "execution_count": 8,
      "outputs": []
    },
    {
      "cell_type": "code",
      "metadata": {
        "id": "e_3stySjwdXA",
        "colab_type": "code",
        "colab": {}
      },
      "source": [
        "#segun definicion de wikipedia\n",
        "def moda(data):\n",
        "    repetitions = 0\n",
        "    moda = -1\n",
        "    for i in data:\n",
        "        n = data.count(i)\n",
        "        if n > repetitions:\n",
        "            repetitions = n\n",
        "    for i in data:\n",
        "        n = data.count(i)\n",
        "        if n == repetitions and moda == -1:\n",
        "            moda = i     \n",
        "    return moda"
      ],
      "execution_count": 9,
      "outputs": []
    },
    {
      "cell_type": "code",
      "metadata": {
        "id": "8MasQgi5wdXC",
        "colab_type": "code",
        "colab": {}
      },
      "source": [
        "def get_final_prediction(prediction_joined):\n",
        "    moda_prediction = []\n",
        "    for predict in prediction_joined:\n",
        "        moda_predict = moda(list(predict))\n",
        "        moda_prediction.append(moda_predict)\n",
        "    return np.array(moda_prediction)"
      ],
      "execution_count": 10,
      "outputs": []
    },
    {
      "cell_type": "code",
      "metadata": {
        "id": "kb-ksGP5wdXG",
        "colab_type": "code",
        "colab": {}
      },
      "source": [
        "x_test_ = xTestingData.drop(['Fare'], axis=1)"
      ],
      "execution_count": 11,
      "outputs": []
    },
    {
      "cell_type": "markdown",
      "metadata": {
        "id": "3w3kLH5TwdXI",
        "colab_type": "text"
      },
      "source": [
        "#Predicciones"
      ]
    },
    {
      "cell_type": "code",
      "metadata": {
        "id": "n2QQTjQswdXK",
        "colab_type": "code",
        "colab": {}
      },
      "source": [
        "y_predict_tree = modelTree.predict(xTestingData)\n",
        "y_predict_bayes = predictBayes(modelNaivesBayes, xTestingData)\n",
        "y_predict_joined = np.stack((y_predict_tree, y_predict_bayes), axis=-1)\n",
        "y_hat_moda = get_final_prediction(y_predict_joined)"
      ],
      "execution_count": 12,
      "outputs": []
    },
    {
      "cell_type": "code",
      "metadata": {
        "id": "op9iLYlIwdXe",
        "colab_type": "code",
        "colab": {
          "base_uri": "https://localhost:8080/",
          "height": 514
        },
        "outputId": "255bed5c-d68a-472e-9982-14f89bb14ba5"
      },
      "source": [
        "y_prediction_summary = np.stack((y_predict_tree, y_predict_bayes, y_hat_moda), axis=-1)\n",
        "df_predictions = pd.DataFrame(y_prediction_summary, columns = [\"Decision Tree\",\"Bayes\",\"Moda Predict\"])\n",
        "df_predictions.head(15)"
      ],
      "execution_count": 13,
      "outputs": [
        {
          "output_type": "execute_result",
          "data": {
            "text/html": [
              "<div>\n",
              "<style scoped>\n",
              "    .dataframe tbody tr th:only-of-type {\n",
              "        vertical-align: middle;\n",
              "    }\n",
              "\n",
              "    .dataframe tbody tr th {\n",
              "        vertical-align: top;\n",
              "    }\n",
              "\n",
              "    .dataframe thead th {\n",
              "        text-align: right;\n",
              "    }\n",
              "</style>\n",
              "<table border=\"1\" class=\"dataframe\">\n",
              "  <thead>\n",
              "    <tr style=\"text-align: right;\">\n",
              "      <th></th>\n",
              "      <th>Decision Tree</th>\n",
              "      <th>Bayes</th>\n",
              "      <th>Moda Predict</th>\n",
              "    </tr>\n",
              "  </thead>\n",
              "  <tbody>\n",
              "    <tr>\n",
              "      <th>0</th>\n",
              "      <td>0</td>\n",
              "      <td>1</td>\n",
              "      <td>0</td>\n",
              "    </tr>\n",
              "    <tr>\n",
              "      <th>1</th>\n",
              "      <td>1</td>\n",
              "      <td>1</td>\n",
              "      <td>1</td>\n",
              "    </tr>\n",
              "    <tr>\n",
              "      <th>2</th>\n",
              "      <td>1</td>\n",
              "      <td>0</td>\n",
              "      <td>1</td>\n",
              "    </tr>\n",
              "    <tr>\n",
              "      <th>3</th>\n",
              "      <td>0</td>\n",
              "      <td>0</td>\n",
              "      <td>0</td>\n",
              "    </tr>\n",
              "    <tr>\n",
              "      <th>4</th>\n",
              "      <td>1</td>\n",
              "      <td>0</td>\n",
              "      <td>1</td>\n",
              "    </tr>\n",
              "    <tr>\n",
              "      <th>5</th>\n",
              "      <td>0</td>\n",
              "      <td>0</td>\n",
              "      <td>0</td>\n",
              "    </tr>\n",
              "    <tr>\n",
              "      <th>6</th>\n",
              "      <td>0</td>\n",
              "      <td>0</td>\n",
              "      <td>0</td>\n",
              "    </tr>\n",
              "    <tr>\n",
              "      <th>7</th>\n",
              "      <td>0</td>\n",
              "      <td>1</td>\n",
              "      <td>0</td>\n",
              "    </tr>\n",
              "    <tr>\n",
              "      <th>8</th>\n",
              "      <td>1</td>\n",
              "      <td>0</td>\n",
              "      <td>1</td>\n",
              "    </tr>\n",
              "    <tr>\n",
              "      <th>9</th>\n",
              "      <td>1</td>\n",
              "      <td>0</td>\n",
              "      <td>1</td>\n",
              "    </tr>\n",
              "    <tr>\n",
              "      <th>10</th>\n",
              "      <td>0</td>\n",
              "      <td>0</td>\n",
              "      <td>0</td>\n",
              "    </tr>\n",
              "    <tr>\n",
              "      <th>11</th>\n",
              "      <td>1</td>\n",
              "      <td>1</td>\n",
              "      <td>1</td>\n",
              "    </tr>\n",
              "    <tr>\n",
              "      <th>12</th>\n",
              "      <td>0</td>\n",
              "      <td>0</td>\n",
              "      <td>0</td>\n",
              "    </tr>\n",
              "    <tr>\n",
              "      <th>13</th>\n",
              "      <td>1</td>\n",
              "      <td>0</td>\n",
              "      <td>1</td>\n",
              "    </tr>\n",
              "    <tr>\n",
              "      <th>14</th>\n",
              "      <td>1</td>\n",
              "      <td>1</td>\n",
              "      <td>1</td>\n",
              "    </tr>\n",
              "  </tbody>\n",
              "</table>\n",
              "</div>"
            ],
            "text/plain": [
              "    Decision Tree  Bayes  Moda Predict\n",
              "0               0      1             0\n",
              "1               1      1             1\n",
              "2               1      0             1\n",
              "3               0      0             0\n",
              "4               1      0             1\n",
              "5               0      0             0\n",
              "6               0      0             0\n",
              "7               0      1             0\n",
              "8               1      0             1\n",
              "9               1      0             1\n",
              "10              0      0             0\n",
              "11              1      1             1\n",
              "12              0      0             0\n",
              "13              1      0             1\n",
              "14              1      1             1"
            ]
          },
          "metadata": {
            "tags": []
          },
          "execution_count": 13
        }
      ]
    },
    {
      "cell_type": "markdown",
      "metadata": {
        "id": "iVTil2fowdXi",
        "colab_type": "text"
      },
      "source": [
        "# Métricas"
      ]
    },
    {
      "cell_type": "code",
      "metadata": {
        "id": "mocTvxdgwdXj",
        "colab_type": "code",
        "colab": {}
      },
      "source": [
        "metrics_tree = getMetrics(yTestingData, y_predict_tree)\n",
        "metrics_bayes = getMetrics(yTestingData, y_predict_bayes)\n",
        "metrics_moda_predicted = getMetrics(yTestingData, y_hat_moda)\n",
        "metrics_joined = np.stack((metrics_tree, metrics_bayes, metrics_moda_predicted), axis=-1)"
      ],
      "execution_count": 14,
      "outputs": []
    },
    {
      "cell_type": "code",
      "metadata": {
        "id": "5likqHTAwdXn",
        "colab_type": "code",
        "colab": {
          "base_uri": "https://localhost:8080/",
          "height": 204
        },
        "outputId": "22449b53-c73c-4b40-c6b5-a91dab2b6f04"
      },
      "source": [
        "df_metrics = pd.DataFrame(metrics_joined, index = [\"Accuracy\",\"Error\",\"Precision\",\"Recall\",\"F1\"], \n",
        "                          columns = [\"Decision Tree\",\"Bayes\",\"Moda Predict\"])\n",
        "df_metrics"
      ],
      "execution_count": 15,
      "outputs": [
        {
          "output_type": "execute_result",
          "data": {
            "text/html": [
              "<div>\n",
              "<style scoped>\n",
              "    .dataframe tbody tr th:only-of-type {\n",
              "        vertical-align: middle;\n",
              "    }\n",
              "\n",
              "    .dataframe tbody tr th {\n",
              "        vertical-align: top;\n",
              "    }\n",
              "\n",
              "    .dataframe thead th {\n",
              "        text-align: right;\n",
              "    }\n",
              "</style>\n",
              "<table border=\"1\" class=\"dataframe\">\n",
              "  <thead>\n",
              "    <tr style=\"text-align: right;\">\n",
              "      <th></th>\n",
              "      <th>Decision Tree</th>\n",
              "      <th>Bayes</th>\n",
              "      <th>Moda Predict</th>\n",
              "    </tr>\n",
              "  </thead>\n",
              "  <tbody>\n",
              "    <tr>\n",
              "      <th>Accuracy</th>\n",
              "      <td>0.873950</td>\n",
              "      <td>0.705882</td>\n",
              "      <td>0.873950</td>\n",
              "    </tr>\n",
              "    <tr>\n",
              "      <th>Error</th>\n",
              "      <td>0.126050</td>\n",
              "      <td>0.294118</td>\n",
              "      <td>0.126050</td>\n",
              "    </tr>\n",
              "    <tr>\n",
              "      <th>Precision</th>\n",
              "      <td>0.873040</td>\n",
              "      <td>0.695896</td>\n",
              "      <td>0.873040</td>\n",
              "    </tr>\n",
              "    <tr>\n",
              "      <th>Recall</th>\n",
              "      <td>0.873950</td>\n",
              "      <td>0.705882</td>\n",
              "      <td>0.873950</td>\n",
              "    </tr>\n",
              "    <tr>\n",
              "      <th>F1</th>\n",
              "      <td>0.872891</td>\n",
              "      <td>0.695160</td>\n",
              "      <td>0.872891</td>\n",
              "    </tr>\n",
              "  </tbody>\n",
              "</table>\n",
              "</div>"
            ],
            "text/plain": [
              "           Decision Tree     Bayes  Moda Predict\n",
              "Accuracy        0.873950  0.705882      0.873950\n",
              "Error           0.126050  0.294118      0.126050\n",
              "Precision       0.873040  0.695896      0.873040\n",
              "Recall          0.873950  0.705882      0.873950\n",
              "F1              0.872891  0.695160      0.872891"
            ]
          },
          "metadata": {
            "tags": []
          },
          "execution_count": 15
        }
      ]
    },
    {
      "cell_type": "markdown",
      "metadata": {
        "id": "c1BsP9MDwdXv",
        "colab_type": "text"
      },
      "source": [
        "# Predicciones Probabilisticas de las proporciones para el modelo\n",
        "\n"
      ]
    },
    {
      "cell_type": "markdown",
      "metadata": {
        "id": "-ocaM1C4-UgP",
        "colab_type": "text"
      },
      "source": [
        "**Naive Bayes**"
      ]
    },
    {
      "cell_type": "code",
      "metadata": {
        "id": "02AtBnemwdX1",
        "colab_type": "code",
        "colab": {
          "base_uri": "https://localhost:8080/",
          "height": 111
        },
        "outputId": "e7488a4f-c134-4601-8e46-3a2d1bcc27e8"
      },
      "source": [
        "modelNaivesBayes[\"probabilities\"]"
      ],
      "execution_count": 16,
      "outputs": [
        {
          "output_type": "execute_result",
          "data": {
            "text/html": [
              "<div>\n",
              "<style scoped>\n",
              "    .dataframe tbody tr th:only-of-type {\n",
              "        vertical-align: middle;\n",
              "    }\n",
              "\n",
              "    .dataframe tbody tr th {\n",
              "        vertical-align: top;\n",
              "    }\n",
              "\n",
              "    .dataframe thead th {\n",
              "        text-align: right;\n",
              "    }\n",
              "</style>\n",
              "<table border=\"1\" class=\"dataframe\">\n",
              "  <thead>\n",
              "    <tr style=\"text-align: right;\">\n",
              "      <th></th>\n",
              "      <th>probabilities</th>\n",
              "    </tr>\n",
              "  </thead>\n",
              "  <tbody>\n",
              "    <tr>\n",
              "      <th>0</th>\n",
              "      <td>0.616466</td>\n",
              "    </tr>\n",
              "    <tr>\n",
              "      <th>1</th>\n",
              "      <td>0.383534</td>\n",
              "    </tr>\n",
              "  </tbody>\n",
              "</table>\n",
              "</div>"
            ],
            "text/plain": [
              "   probabilities\n",
              "0       0.616466\n",
              "1       0.383534"
            ]
          },
          "metadata": {
            "tags": []
          },
          "execution_count": 16
        }
      ]
    },
    {
      "cell_type": "code",
      "metadata": {
        "id": "DjTToDJOwdXz",
        "colab_type": "code",
        "colab": {
          "base_uri": "https://localhost:8080/",
          "height": 111
        },
        "outputId": "fa1e6116-43c8-4489-d162-05e3997e6714"
      },
      "source": [
        "modelNaivesBayes[\"stdev\"]"
      ],
      "execution_count": 17,
      "outputs": [
        {
          "output_type": "execute_result",
          "data": {
            "text/html": [
              "<div>\n",
              "<style scoped>\n",
              "    .dataframe tbody tr th:only-of-type {\n",
              "        vertical-align: middle;\n",
              "    }\n",
              "\n",
              "    .dataframe tbody tr th {\n",
              "        vertical-align: top;\n",
              "    }\n",
              "\n",
              "    .dataframe thead th {\n",
              "        text-align: right;\n",
              "    }\n",
              "</style>\n",
              "<table border=\"1\" class=\"dataframe\">\n",
              "  <thead>\n",
              "    <tr style=\"text-align: right;\">\n",
              "      <th></th>\n",
              "      <th>Fare</th>\n",
              "      <th>passenger_sex_codes</th>\n",
              "      <th>passenger_class_codes</th>\n",
              "    </tr>\n",
              "  </thead>\n",
              "  <tbody>\n",
              "    <tr>\n",
              "      <th>0</th>\n",
              "      <td>30.469067</td>\n",
              "      <td>0.356912</td>\n",
              "      <td>0.731240</td>\n",
              "    </tr>\n",
              "    <tr>\n",
              "      <th>1</th>\n",
              "      <td>58.172405</td>\n",
              "      <td>0.472018</td>\n",
              "      <td>0.858798</td>\n",
              "    </tr>\n",
              "  </tbody>\n",
              "</table>\n",
              "</div>"
            ],
            "text/plain": [
              "        Fare  passenger_sex_codes  passenger_class_codes\n",
              "0  30.469067             0.356912               0.731240\n",
              "1  58.172405             0.472018               0.858798"
            ]
          },
          "metadata": {
            "tags": []
          },
          "execution_count": 17
        }
      ]
    },
    {
      "cell_type": "code",
      "metadata": {
        "id": "g35rFTswwdXw",
        "colab_type": "code",
        "colab": {
          "base_uri": "https://localhost:8080/",
          "height": 111
        },
        "outputId": "f43ed50e-a825-4421-dca1-43c7991bec0f"
      },
      "source": [
        "modelNaivesBayes[\"mean\"]"
      ],
      "execution_count": 18,
      "outputs": [
        {
          "output_type": "execute_result",
          "data": {
            "text/html": [
              "<div>\n",
              "<style scoped>\n",
              "    .dataframe tbody tr th:only-of-type {\n",
              "        vertical-align: middle;\n",
              "    }\n",
              "\n",
              "    .dataframe tbody tr th {\n",
              "        vertical-align: top;\n",
              "    }\n",
              "\n",
              "    .dataframe thead th {\n",
              "        text-align: right;\n",
              "    }\n",
              "</style>\n",
              "<table border=\"1\" class=\"dataframe\">\n",
              "  <thead>\n",
              "    <tr style=\"text-align: right;\">\n",
              "      <th></th>\n",
              "      <th>Fare</th>\n",
              "      <th>passenger_sex_codes</th>\n",
              "      <th>passenger_class_codes</th>\n",
              "    </tr>\n",
              "  </thead>\n",
              "  <tbody>\n",
              "    <tr>\n",
              "      <th>0</th>\n",
              "      <td>22.065131</td>\n",
              "      <td>0.850163</td>\n",
              "      <td>0.456026</td>\n",
              "    </tr>\n",
              "    <tr>\n",
              "      <th>1</th>\n",
              "      <td>45.238896</td>\n",
              "      <td>0.335079</td>\n",
              "      <td>1.026178</td>\n",
              "    </tr>\n",
              "  </tbody>\n",
              "</table>\n",
              "</div>"
            ],
            "text/plain": [
              "        Fare  passenger_sex_codes  passenger_class_codes\n",
              "0  22.065131             0.850163               0.456026\n",
              "1  45.238896             0.335079               1.026178"
            ]
          },
          "metadata": {
            "tags": []
          },
          "execution_count": 18
        }
      ]
    },
    {
      "cell_type": "markdown",
      "metadata": {
        "id": "Rc23yVMDwdXq",
        "colab_type": "text"
      },
      "source": [
        "# Grafo"
      ]
    },
    {
      "cell_type": "code",
      "metadata": {
        "id": "koBlTq7AwdXq",
        "colab_type": "code",
        "colab": {
          "base_uri": "https://localhost:8080/",
          "height": 316
        },
        "outputId": "9824e50f-a6e3-4635-bc27-e30d2882e74b"
      },
      "source": [
        "# testee muchas formas pero no logre generar el grafo, al parecer es un bug con la version de python\n",
        "# y colab que estoy usando \n",
        "# https://stackoverflow.com/questions/50103486/installation-graphviz-no-module-named-graphviz\n",
        "def generateGraph(x,y):\n",
        "    model = tree.DecisionTreeClassifier()\n",
        "    model = model.fit(x, y)\n",
        "    graphData = tree.export_graphviz(model, out_file=None,\n",
        "                                      filled=True, rounded=True,\n",
        "                                      class_names=[\"No vive\",\"vive\"],                                      \n",
        "                                      special_characters=True)  \n",
        "    graph = graphviz.Source(graphData)\n",
        "    \n",
        "    return graph \n",
        "\n",
        "x = xTestingData.head(25).values\n",
        "y = y_hat_moda[0:25]\n",
        "\n",
        "# tratamos de generar el grafo\n",
        "generateGraph(x,y)   "
      ],
      "execution_count": 19,
      "outputs": [
        {
          "output_type": "error",
          "ename": "NameError",
          "evalue": "ignored",
          "traceback": [
            "\u001b[0;31m---------------------------------------------------------------------------\u001b[0m",
            "\u001b[0;31mNameError\u001b[0m                                 Traceback (most recent call last)",
            "\u001b[0;32m<ipython-input-19-ca1537a23970>\u001b[0m in \u001b[0;36m<module>\u001b[0;34m()\u001b[0m\n\u001b[1;32m     17\u001b[0m \u001b[0;34m\u001b[0m\u001b[0m\n\u001b[1;32m     18\u001b[0m \u001b[0;31m# tratamos de generar el grafo\u001b[0m\u001b[0;34m\u001b[0m\u001b[0;34m\u001b[0m\u001b[0;34m\u001b[0m\u001b[0m\n\u001b[0;32m---> 19\u001b[0;31m \u001b[0mgenerateGraph\u001b[0m\u001b[0;34m(\u001b[0m\u001b[0mx\u001b[0m\u001b[0;34m,\u001b[0m\u001b[0my\u001b[0m\u001b[0;34m)\u001b[0m\u001b[0;34m\u001b[0m\u001b[0;34m\u001b[0m\u001b[0m\n\u001b[0m",
            "\u001b[0;32m<ipython-input-19-ca1537a23970>\u001b[0m in \u001b[0;36mgenerateGraph\u001b[0;34m(x, y)\u001b[0m\n\u001b[1;32m      9\u001b[0m                                       \u001b[0mclass_names\u001b[0m\u001b[0;34m=\u001b[0m\u001b[0;34m[\u001b[0m\u001b[0;34m\"No vive\"\u001b[0m\u001b[0;34m,\u001b[0m\u001b[0;34m\"vive\"\u001b[0m\u001b[0;34m]\u001b[0m\u001b[0;34m,\u001b[0m\u001b[0;34m\u001b[0m\u001b[0;34m\u001b[0m\u001b[0m\n\u001b[1;32m     10\u001b[0m                                       special_characters=True)  \n\u001b[0;32m---> 11\u001b[0;31m     \u001b[0mgraph\u001b[0m \u001b[0;34m=\u001b[0m \u001b[0mgraphviz\u001b[0m\u001b[0;34m.\u001b[0m\u001b[0mSource\u001b[0m\u001b[0;34m(\u001b[0m\u001b[0mgraphData\u001b[0m\u001b[0;34m)\u001b[0m\u001b[0;34m\u001b[0m\u001b[0;34m\u001b[0m\u001b[0m\n\u001b[0m\u001b[1;32m     12\u001b[0m \u001b[0;34m\u001b[0m\u001b[0m\n\u001b[1;32m     13\u001b[0m     \u001b[0;32mreturn\u001b[0m \u001b[0mgraph\u001b[0m\u001b[0;34m\u001b[0m\u001b[0;34m\u001b[0m\u001b[0m\n",
            "\u001b[0;31mNameError\u001b[0m: name 'graphviz' is not defined"
          ]
        }
      ]
    }
  ]
}