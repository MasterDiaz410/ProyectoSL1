{
  "nbformat": 4,
  "nbformat_minor": 0,
  "metadata": {
    "kernelspec": {
      "display_name": "Python 3",
      "language": "python",
      "name": "python3"
    },
    "language_info": {
      "codemirror_mode": {
        "name": "ipython",
        "version": 3
      },
      "file_extension": ".py",
      "mimetype": "text/x-python",
      "name": "python",
      "nbconvert_exporter": "python",
      "pygments_lexer": "ipython3",
      "version": "3.7.4"
    },
    "colab": {
      "name": "Proyecto SL1 Parte1",
      "provenance": [],
      "collapsed_sections": [
        "EE-SeIkFG6GZ"
      ],
      "include_colab_link": true
    }
  },
  "cells": [
    {
      "cell_type": "markdown",
      "metadata": {
        "id": "view-in-github",
        "colab_type": "text"
      },
      "source": [
        "<a href=\"https://colab.research.google.com/github/MasterDiaz410/ProyectoSL1/blob/master/Proyecto_SL1_Parte1.ipynb\" target=\"_parent\"><img src=\"https://colab.research.google.com/assets/colab-badge.svg\" alt=\"Open In Colab\"/></a>"
      ]
    },
    {
      "cell_type": "markdown",
      "metadata": {
        "id": "DpTA96GNG6EH",
        "colab_type": "text"
      },
      "source": [
        "# Statistical Learning I\n",
        " **Proyecto final de clase**\n",
        "\n",
        "\n",
        "---\n",
        "\n"
      ]
    },
    {
      "cell_type": "markdown",
      "metadata": {
        "id": "p54GKqKgNSv1",
        "colab_type": "text"
      },
      "source": [
        "**Descripción**\n",
        "El proyecto consiste en hacer clasificación binaria  para determinar si una persona sobrevive(y=1) o no (y=0) del hundimiento del Titanic."
      ]
    },
    {
      "cell_type": "markdown",
      "metadata": {
        "id": "njxcC8oDNUrS",
        "colab_type": "text"
      },
      "source": [
        "Bueno... empecemos con la resolución del problema. Para ello cargamos todos los paquetes que necesitamos en el proyecto, acá ire pegando cada vez que necesite una nueva librera su código y explicación correspondiente."
      ]
    },
    {
      "cell_type": "code",
      "metadata": {
        "id": "-FerntUIG6EI",
        "colab_type": "code",
        "colab": {}
      },
      "source": [
        "import numpy as np\n",
        "import pandas as pd\n",
        "import math\n",
        "\n",
        "from joblib import dump\n",
        "from scipy.stats import norm\n",
        "from datetime import datetime\n",
        "\n",
        "import tensorflow as tf\n",
        "from tensorflow import keras\n",
        "\n",
        "%matplotlib inline\n",
        "from matplotlib import pyplot as plt\n",
        "\n",
        "import os\n",
        "from scipy.stats import norm\n",
        "from datetime import datetime\n",
        "\n",
        "from sklearn import tree\n",
        "from sklearn import svm\n",
        "from sklearn.feature_selection import SelectKBest\n",
        "from sklearn.model_selection import train_test_split\n",
        "from sklearn.metrics import accuracy_score\n",
        "from sklearn.metrics import mean_squared_error\n",
        "from sklearn.metrics import precision_score\n",
        "from sklearn.metrics import recall_score\n",
        "from sklearn.metrics import f1_score\n",
        "from sklearn.preprocessing import PolynomialFeatures\n"
      ],
      "execution_count": 1,
      "outputs": []
    },
    {
      "cell_type": "markdown",
      "metadata": {
        "id": "FH8pWMQCNYnn",
        "colab_type": "text"
      },
      "source": [
        "Nos quitamos algunos problemas de compatibilidad con tensorflow"
      ]
    },
    {
      "cell_type": "code",
      "metadata": {
        "id": "kuEw4HV-G6EM",
        "colab_type": "code",
        "colab": {
          "base_uri": "https://localhost:8080/",
          "height": 68
        },
        "outputId": "f22c09c5-c365-4553-d592-102c0fb628e8"
      },
      "source": [
        "if tf.__version__.startswith(\"2.\"):\n",
        "    import tensorflow.compat.v1 as tf\n",
        "    tf.compat.v1.disable_v2_behavior()\n",
        "    tf.compat.v1.disable_eager_execution()"
      ],
      "execution_count": 2,
      "outputs": [
        {
          "output_type": "stream",
          "text": [
            "WARNING:tensorflow:From /usr/local/lib/python3.6/dist-packages/tensorflow/python/compat/v2_compat.py:96: disable_resource_variables (from tensorflow.python.ops.variable_scope) is deprecated and will be removed in a future version.\n",
            "Instructions for updating:\n",
            "non-resource variables are not supported in the long term\n"
          ],
          "name": "stdout"
        }
      ]
    },
    {
      "cell_type": "markdown",
      "metadata": {
        "id": "HvVRYhz0cR3i",
        "colab_type": "text"
      },
      "source": [
        "# Parte 1"
      ]
    },
    {
      "cell_type": "markdown",
      "metadata": {
        "id": "T9rh1CMCG6EQ",
        "colab_type": "text"
      },
      "source": [
        "Los datos se encuentran en el archivo denominado data_titanic_proyecto.csv el cual lo tengo alojado en la ruta de colab de google en el drive, procedemos a cargarlos para iniciar con el análisis exploratorio de los datos."
      ]
    },
    {
      "cell_type": "code",
      "metadata": {
        "id": "UL9oMKjDG6EQ",
        "colab_type": "code",
        "colab": {
          "base_uri": "https://localhost:8080/",
          "height": 34
        },
        "outputId": "4dd09eb7-85fb-4a6e-f73d-e2691e8ebf99"
      },
      "source": [
        "#montamos el contenido del drive\n",
        "from google.colab import drive \n",
        "drive.mount('/content/gdrive')\n",
        "\n",
        "# Cargando dataset de vinos\n",
        "dfTitanic = pd.read_csv('gdrive/My Drive/Colab Notebooks/data_titanic_proyecto.csv')\n"
      ],
      "execution_count": 3,
      "outputs": [
        {
          "output_type": "stream",
          "text": [
            "Drive already mounted at /content/gdrive; to attempt to forcibly remount, call drive.mount(\"/content/gdrive\", force_remount=True).\n"
          ],
          "name": "stdout"
        }
      ]
    },
    {
      "cell_type": "markdown",
      "metadata": {
        "id": "tejnFxHpNkoJ",
        "colab_type": "text"
      },
      "source": [
        "Veamos que contiene nuestro dataframe ..."
      ]
    },
    {
      "cell_type": "code",
      "metadata": {
        "id": "PYGhUsHsNmY_",
        "colab_type": "code",
        "colab": {
          "base_uri": "https://localhost:8080/",
          "height": 34
        },
        "outputId": "dca5d025-8443-4b69-c870-2ced02509fdc"
      },
      "source": [
        "# dimensiones del data frame\n",
        "dfTitanic.shape"
      ],
      "execution_count": 4,
      "outputs": [
        {
          "output_type": "execute_result",
          "data": {
            "text/plain": [
              "(891, 12)"
            ]
          },
          "metadata": {
            "tags": []
          },
          "execution_count": 4
        }
      ]
    },
    {
      "cell_type": "code",
      "metadata": {
        "id": "IXQkzsQ5Np89",
        "colab_type": "code",
        "colab": {
          "base_uri": "https://localhost:8080/",
          "height": 204
        },
        "outputId": "aab985e8-7ace-4503-8a8f-07f4ee5d2158"
      },
      "source": [
        "dfTitanic.head()"
      ],
      "execution_count": 5,
      "outputs": [
        {
          "output_type": "execute_result",
          "data": {
            "text/html": [
              "<div>\n",
              "<style scoped>\n",
              "    .dataframe tbody tr th:only-of-type {\n",
              "        vertical-align: middle;\n",
              "    }\n",
              "\n",
              "    .dataframe tbody tr th {\n",
              "        vertical-align: top;\n",
              "    }\n",
              "\n",
              "    .dataframe thead th {\n",
              "        text-align: right;\n",
              "    }\n",
              "</style>\n",
              "<table border=\"1\" class=\"dataframe\">\n",
              "  <thead>\n",
              "    <tr style=\"text-align: right;\">\n",
              "      <th></th>\n",
              "      <th>PassengerId</th>\n",
              "      <th>Name</th>\n",
              "      <th>Age</th>\n",
              "      <th>SibSp</th>\n",
              "      <th>Parch</th>\n",
              "      <th>Ticket</th>\n",
              "      <th>Fare</th>\n",
              "      <th>Cabin</th>\n",
              "      <th>Embarked</th>\n",
              "      <th>passenger_class</th>\n",
              "      <th>passenger_sex</th>\n",
              "      <th>passenger_survived</th>\n",
              "    </tr>\n",
              "  </thead>\n",
              "  <tbody>\n",
              "    <tr>\n",
              "      <th>0</th>\n",
              "      <td>1</td>\n",
              "      <td>Braund, Mr. Owen Harris</td>\n",
              "      <td>22.0</td>\n",
              "      <td>1</td>\n",
              "      <td>0</td>\n",
              "      <td>A/5 21171</td>\n",
              "      <td>7.2500</td>\n",
              "      <td>NaN</td>\n",
              "      <td>S</td>\n",
              "      <td>Lower</td>\n",
              "      <td>M</td>\n",
              "      <td>N</td>\n",
              "    </tr>\n",
              "    <tr>\n",
              "      <th>1</th>\n",
              "      <td>2</td>\n",
              "      <td>Cumings, Mrs. John Bradley (Florence Briggs Th...</td>\n",
              "      <td>38.0</td>\n",
              "      <td>1</td>\n",
              "      <td>0</td>\n",
              "      <td>PC 17599</td>\n",
              "      <td>71.2833</td>\n",
              "      <td>C85</td>\n",
              "      <td>C</td>\n",
              "      <td>Upper</td>\n",
              "      <td>F</td>\n",
              "      <td>Y</td>\n",
              "    </tr>\n",
              "    <tr>\n",
              "      <th>2</th>\n",
              "      <td>3</td>\n",
              "      <td>Heikkinen, Miss. Laina</td>\n",
              "      <td>26.0</td>\n",
              "      <td>0</td>\n",
              "      <td>0</td>\n",
              "      <td>STON/O2. 3101282</td>\n",
              "      <td>7.9250</td>\n",
              "      <td>NaN</td>\n",
              "      <td>S</td>\n",
              "      <td>Lower</td>\n",
              "      <td>F</td>\n",
              "      <td>Y</td>\n",
              "    </tr>\n",
              "    <tr>\n",
              "      <th>3</th>\n",
              "      <td>4</td>\n",
              "      <td>Futrelle, Mrs. Jacques Heath (Lily May Peel)</td>\n",
              "      <td>35.0</td>\n",
              "      <td>1</td>\n",
              "      <td>0</td>\n",
              "      <td>113803</td>\n",
              "      <td>53.1000</td>\n",
              "      <td>C123</td>\n",
              "      <td>S</td>\n",
              "      <td>Upper</td>\n",
              "      <td>F</td>\n",
              "      <td>Y</td>\n",
              "    </tr>\n",
              "    <tr>\n",
              "      <th>4</th>\n",
              "      <td>5</td>\n",
              "      <td>Allen, Mr. William Henry</td>\n",
              "      <td>35.0</td>\n",
              "      <td>0</td>\n",
              "      <td>0</td>\n",
              "      <td>373450</td>\n",
              "      <td>8.0500</td>\n",
              "      <td>NaN</td>\n",
              "      <td>S</td>\n",
              "      <td>Lower</td>\n",
              "      <td>M</td>\n",
              "      <td>N</td>\n",
              "    </tr>\n",
              "  </tbody>\n",
              "</table>\n",
              "</div>"
            ],
            "text/plain": [
              "   PassengerId  ... passenger_survived\n",
              "0            1  ...                  N\n",
              "1            2  ...                  Y\n",
              "2            3  ...                  Y\n",
              "3            4  ...                  Y\n",
              "4            5  ...                  N\n",
              "\n",
              "[5 rows x 12 columns]"
            ]
          },
          "metadata": {
            "tags": []
          },
          "execution_count": 5
        }
      ]
    },
    {
      "cell_type": "markdown",
      "metadata": {
        "id": "eks-FUHlNwKL",
        "colab_type": "text"
      },
      "source": [
        "Vemos que la data posee 891 registros con 12 columnas, además podemos verificar que existen datos NaN, de igual forma variables categóricas commo Ticket, passenger_class, vemos que algunas pueden ser factores. por lo que inicialmente con muy pocos datos vemos que nuestra data no se encuentra 100% limpia. Además que la variable que vamos a tratar predecir es ***passenger_survived***"
      ]
    },
    {
      "cell_type": "markdown",
      "metadata": {
        "id": "U5x7GoYqNy_V",
        "colab_type": "text"
      },
      "source": [
        "Conozcamos un poco más nuestros datos, veamos algunos datos estadísticos básicos que lo representen."
      ]
    },
    {
      "cell_type": "code",
      "metadata": {
        "id": "XPFv66WaN2Ey",
        "colab_type": "code",
        "colab": {
          "base_uri": "https://localhost:8080/",
          "height": 297
        },
        "outputId": "0634a327-d555-4294-cbde-84b33e8078c6"
      },
      "source": [
        "dfTitanic.describe()"
      ],
      "execution_count": 6,
      "outputs": [
        {
          "output_type": "execute_result",
          "data": {
            "text/html": [
              "<div>\n",
              "<style scoped>\n",
              "    .dataframe tbody tr th:only-of-type {\n",
              "        vertical-align: middle;\n",
              "    }\n",
              "\n",
              "    .dataframe tbody tr th {\n",
              "        vertical-align: top;\n",
              "    }\n",
              "\n",
              "    .dataframe thead th {\n",
              "        text-align: right;\n",
              "    }\n",
              "</style>\n",
              "<table border=\"1\" class=\"dataframe\">\n",
              "  <thead>\n",
              "    <tr style=\"text-align: right;\">\n",
              "      <th></th>\n",
              "      <th>PassengerId</th>\n",
              "      <th>Age</th>\n",
              "      <th>SibSp</th>\n",
              "      <th>Parch</th>\n",
              "      <th>Fare</th>\n",
              "    </tr>\n",
              "  </thead>\n",
              "  <tbody>\n",
              "    <tr>\n",
              "      <th>count</th>\n",
              "      <td>891.000000</td>\n",
              "      <td>714.000000</td>\n",
              "      <td>891.000000</td>\n",
              "      <td>891.000000</td>\n",
              "      <td>891.000000</td>\n",
              "    </tr>\n",
              "    <tr>\n",
              "      <th>mean</th>\n",
              "      <td>446.000000</td>\n",
              "      <td>29.699118</td>\n",
              "      <td>0.523008</td>\n",
              "      <td>0.381594</td>\n",
              "      <td>32.204208</td>\n",
              "    </tr>\n",
              "    <tr>\n",
              "      <th>std</th>\n",
              "      <td>257.353842</td>\n",
              "      <td>14.526497</td>\n",
              "      <td>1.102743</td>\n",
              "      <td>0.806057</td>\n",
              "      <td>49.693429</td>\n",
              "    </tr>\n",
              "    <tr>\n",
              "      <th>min</th>\n",
              "      <td>1.000000</td>\n",
              "      <td>0.420000</td>\n",
              "      <td>0.000000</td>\n",
              "      <td>0.000000</td>\n",
              "      <td>0.000000</td>\n",
              "    </tr>\n",
              "    <tr>\n",
              "      <th>25%</th>\n",
              "      <td>223.500000</td>\n",
              "      <td>20.125000</td>\n",
              "      <td>0.000000</td>\n",
              "      <td>0.000000</td>\n",
              "      <td>7.910400</td>\n",
              "    </tr>\n",
              "    <tr>\n",
              "      <th>50%</th>\n",
              "      <td>446.000000</td>\n",
              "      <td>28.000000</td>\n",
              "      <td>0.000000</td>\n",
              "      <td>0.000000</td>\n",
              "      <td>14.454200</td>\n",
              "    </tr>\n",
              "    <tr>\n",
              "      <th>75%</th>\n",
              "      <td>668.500000</td>\n",
              "      <td>38.000000</td>\n",
              "      <td>1.000000</td>\n",
              "      <td>0.000000</td>\n",
              "      <td>31.000000</td>\n",
              "    </tr>\n",
              "    <tr>\n",
              "      <th>max</th>\n",
              "      <td>891.000000</td>\n",
              "      <td>80.000000</td>\n",
              "      <td>8.000000</td>\n",
              "      <td>6.000000</td>\n",
              "      <td>512.329200</td>\n",
              "    </tr>\n",
              "  </tbody>\n",
              "</table>\n",
              "</div>"
            ],
            "text/plain": [
              "       PassengerId         Age       SibSp       Parch        Fare\n",
              "count   891.000000  714.000000  891.000000  891.000000  891.000000\n",
              "mean    446.000000   29.699118    0.523008    0.381594   32.204208\n",
              "std     257.353842   14.526497    1.102743    0.806057   49.693429\n",
              "min       1.000000    0.420000    0.000000    0.000000    0.000000\n",
              "25%     223.500000   20.125000    0.000000    0.000000    7.910400\n",
              "50%     446.000000   28.000000    0.000000    0.000000   14.454200\n",
              "75%     668.500000   38.000000    1.000000    0.000000   31.000000\n",
              "max     891.000000   80.000000    8.000000    6.000000  512.329200"
            ]
          },
          "metadata": {
            "tags": []
          },
          "execution_count": 6
        }
      ]
    },
    {
      "cell_type": "markdown",
      "metadata": {
        "id": "u6JNVZAoN33f",
        "colab_type": "text"
      },
      "source": [
        "Vaya que resulta interesante, con la data sin ninguna transformación vemos los siguientes datos relevantes. \n",
        "\n",
        "*   El promedio de edad de las personas a bordo del Titanic es aproximadamente 30 años.\n",
        "*   Las tarifas de los tickets de los pasajeros se encuentra hasta un maximo de 512 en la moneda del dataset.\n"
      ]
    },
    {
      "cell_type": "markdown",
      "metadata": {
        "id": "Yq2k9JT9OCPZ",
        "colab_type": "text"
      },
      "source": [
        "Bueno luego de un análisis previo, con los datos procedamos a normalizar y llevar a cabo alguna limpieza sobre nuestros datos."
      ]
    },
    {
      "cell_type": "markdown",
      "metadata": {
        "id": "AMQjc13ZG6EU",
        "colab_type": "text"
      },
      "source": [
        "Eliminemos los NaN a un valor comprensible, por facilidad le seteamos un 0"
      ]
    },
    {
      "cell_type": "code",
      "metadata": {
        "id": "vMu_8XugG6EV",
        "colab_type": "code",
        "colab": {}
      },
      "source": [
        "dfTitanic = dfTitanic.fillna(0)"
      ],
      "execution_count": 7,
      "outputs": []
    },
    {
      "cell_type": "markdown",
      "metadata": {
        "id": "hHR0ay-VG6EZ",
        "colab_type": "text"
      },
      "source": [
        "#### Selección de Variables\n",
        "\n",
        "Posibles variables predictoras\n",
        "- Age\n",
        "- Fare\n",
        "- passenger_class\n",
        "- passenger_sex\n",
        "\n",
        "Variable a predecir\n",
        "\n",
        "- passenger_survived"
      ]
    },
    {
      "cell_type": "markdown",
      "metadata": {
        "id": "8KHMpvrNG6Ea",
        "colab_type": "text"
      },
      "source": [
        "Ahora cambiemos nuestras variables categóricas para luego analizar si le aportan algo a nuestro modelo."
      ]
    },
    {
      "cell_type": "code",
      "metadata": {
        "id": "StbM0fzPG6Ea",
        "colab_type": "code",
        "colab": {}
      },
      "source": [
        "dfTitanic['passenger_sex_codes'] = dfTitanic['passenger_sex'].astype('category').cat.codes\n",
        "dfTitanic['passenger_survived_category'] = dfTitanic['passenger_survived'].astype('category').cat.codes\n",
        "dfTitanic['passenger_class_codes'] = dfTitanic['passenger_class'].astype('category').cat.codes"
      ],
      "execution_count": 8,
      "outputs": []
    },
    {
      "cell_type": "markdown",
      "metadata": {
        "id": "k80ey7EbOl6A",
        "colab_type": "text"
      },
      "source": [
        "Veamos como quedaron nuestras variables"
      ]
    },
    {
      "cell_type": "code",
      "metadata": {
        "id": "tHTiqnyFOoM8",
        "colab_type": "code",
        "colab": {
          "base_uri": "https://localhost:8080/",
          "height": 255
        },
        "outputId": "bc8a4af5-3798-4b52-ee35-39a628a80c71"
      },
      "source": [
        "dfTitanic.head()"
      ],
      "execution_count": 9,
      "outputs": [
        {
          "output_type": "execute_result",
          "data": {
            "text/html": [
              "<div>\n",
              "<style scoped>\n",
              "    .dataframe tbody tr th:only-of-type {\n",
              "        vertical-align: middle;\n",
              "    }\n",
              "\n",
              "    .dataframe tbody tr th {\n",
              "        vertical-align: top;\n",
              "    }\n",
              "\n",
              "    .dataframe thead th {\n",
              "        text-align: right;\n",
              "    }\n",
              "</style>\n",
              "<table border=\"1\" class=\"dataframe\">\n",
              "  <thead>\n",
              "    <tr style=\"text-align: right;\">\n",
              "      <th></th>\n",
              "      <th>PassengerId</th>\n",
              "      <th>Name</th>\n",
              "      <th>Age</th>\n",
              "      <th>SibSp</th>\n",
              "      <th>Parch</th>\n",
              "      <th>Ticket</th>\n",
              "      <th>Fare</th>\n",
              "      <th>Cabin</th>\n",
              "      <th>Embarked</th>\n",
              "      <th>passenger_class</th>\n",
              "      <th>passenger_sex</th>\n",
              "      <th>passenger_survived</th>\n",
              "      <th>passenger_sex_codes</th>\n",
              "      <th>passenger_survived_category</th>\n",
              "      <th>passenger_class_codes</th>\n",
              "    </tr>\n",
              "  </thead>\n",
              "  <tbody>\n",
              "    <tr>\n",
              "      <th>0</th>\n",
              "      <td>1</td>\n",
              "      <td>Braund, Mr. Owen Harris</td>\n",
              "      <td>22.0</td>\n",
              "      <td>1</td>\n",
              "      <td>0</td>\n",
              "      <td>A/5 21171</td>\n",
              "      <td>7.2500</td>\n",
              "      <td>0</td>\n",
              "      <td>S</td>\n",
              "      <td>Lower</td>\n",
              "      <td>M</td>\n",
              "      <td>N</td>\n",
              "      <td>1</td>\n",
              "      <td>0</td>\n",
              "      <td>0</td>\n",
              "    </tr>\n",
              "    <tr>\n",
              "      <th>1</th>\n",
              "      <td>2</td>\n",
              "      <td>Cumings, Mrs. John Bradley (Florence Briggs Th...</td>\n",
              "      <td>38.0</td>\n",
              "      <td>1</td>\n",
              "      <td>0</td>\n",
              "      <td>PC 17599</td>\n",
              "      <td>71.2833</td>\n",
              "      <td>C85</td>\n",
              "      <td>C</td>\n",
              "      <td>Upper</td>\n",
              "      <td>F</td>\n",
              "      <td>Y</td>\n",
              "      <td>0</td>\n",
              "      <td>1</td>\n",
              "      <td>2</td>\n",
              "    </tr>\n",
              "    <tr>\n",
              "      <th>2</th>\n",
              "      <td>3</td>\n",
              "      <td>Heikkinen, Miss. Laina</td>\n",
              "      <td>26.0</td>\n",
              "      <td>0</td>\n",
              "      <td>0</td>\n",
              "      <td>STON/O2. 3101282</td>\n",
              "      <td>7.9250</td>\n",
              "      <td>0</td>\n",
              "      <td>S</td>\n",
              "      <td>Lower</td>\n",
              "      <td>F</td>\n",
              "      <td>Y</td>\n",
              "      <td>0</td>\n",
              "      <td>1</td>\n",
              "      <td>0</td>\n",
              "    </tr>\n",
              "    <tr>\n",
              "      <th>3</th>\n",
              "      <td>4</td>\n",
              "      <td>Futrelle, Mrs. Jacques Heath (Lily May Peel)</td>\n",
              "      <td>35.0</td>\n",
              "      <td>1</td>\n",
              "      <td>0</td>\n",
              "      <td>113803</td>\n",
              "      <td>53.1000</td>\n",
              "      <td>C123</td>\n",
              "      <td>S</td>\n",
              "      <td>Upper</td>\n",
              "      <td>F</td>\n",
              "      <td>Y</td>\n",
              "      <td>0</td>\n",
              "      <td>1</td>\n",
              "      <td>2</td>\n",
              "    </tr>\n",
              "    <tr>\n",
              "      <th>4</th>\n",
              "      <td>5</td>\n",
              "      <td>Allen, Mr. William Henry</td>\n",
              "      <td>35.0</td>\n",
              "      <td>0</td>\n",
              "      <td>0</td>\n",
              "      <td>373450</td>\n",
              "      <td>8.0500</td>\n",
              "      <td>0</td>\n",
              "      <td>S</td>\n",
              "      <td>Lower</td>\n",
              "      <td>M</td>\n",
              "      <td>N</td>\n",
              "      <td>1</td>\n",
              "      <td>0</td>\n",
              "      <td>0</td>\n",
              "    </tr>\n",
              "  </tbody>\n",
              "</table>\n",
              "</div>"
            ],
            "text/plain": [
              "   PassengerId  ... passenger_class_codes\n",
              "0            1  ...                     0\n",
              "1            2  ...                     2\n",
              "2            3  ...                     0\n",
              "3            4  ...                     2\n",
              "4            5  ...                     0\n",
              "\n",
              "[5 rows x 15 columns]"
            ]
          },
          "metadata": {
            "tags": []
          },
          "execution_count": 9
        }
      ]
    },
    {
      "cell_type": "markdown",
      "metadata": {
        "id": "rMcftdkvOs91",
        "colab_type": "text"
      },
      "source": [
        "Ahora si veamos los datos estadisticos, con la información ya lista para trabajar"
      ]
    },
    {
      "cell_type": "code",
      "metadata": {
        "id": "HlnCrpleOu4y",
        "colab_type": "code",
        "colab": {
          "base_uri": "https://localhost:8080/",
          "height": 297
        },
        "outputId": "c1e780e7-6bd3-4441-927d-efecca1a8fbe"
      },
      "source": [
        "dfTitanic.describe()"
      ],
      "execution_count": 10,
      "outputs": [
        {
          "output_type": "execute_result",
          "data": {
            "text/html": [
              "<div>\n",
              "<style scoped>\n",
              "    .dataframe tbody tr th:only-of-type {\n",
              "        vertical-align: middle;\n",
              "    }\n",
              "\n",
              "    .dataframe tbody tr th {\n",
              "        vertical-align: top;\n",
              "    }\n",
              "\n",
              "    .dataframe thead th {\n",
              "        text-align: right;\n",
              "    }\n",
              "</style>\n",
              "<table border=\"1\" class=\"dataframe\">\n",
              "  <thead>\n",
              "    <tr style=\"text-align: right;\">\n",
              "      <th></th>\n",
              "      <th>PassengerId</th>\n",
              "      <th>Age</th>\n",
              "      <th>SibSp</th>\n",
              "      <th>Parch</th>\n",
              "      <th>Fare</th>\n",
              "      <th>passenger_sex_codes</th>\n",
              "      <th>passenger_survived_category</th>\n",
              "      <th>passenger_class_codes</th>\n",
              "    </tr>\n",
              "  </thead>\n",
              "  <tbody>\n",
              "    <tr>\n",
              "      <th>count</th>\n",
              "      <td>891.000000</td>\n",
              "      <td>891.000000</td>\n",
              "      <td>891.000000</td>\n",
              "      <td>891.000000</td>\n",
              "      <td>891.000000</td>\n",
              "      <td>891.000000</td>\n",
              "      <td>891.000000</td>\n",
              "      <td>891.000000</td>\n",
              "    </tr>\n",
              "    <tr>\n",
              "      <th>mean</th>\n",
              "      <td>446.000000</td>\n",
              "      <td>23.799293</td>\n",
              "      <td>0.523008</td>\n",
              "      <td>0.381594</td>\n",
              "      <td>32.204208</td>\n",
              "      <td>0.647587</td>\n",
              "      <td>0.383838</td>\n",
              "      <td>0.691358</td>\n",
              "    </tr>\n",
              "    <tr>\n",
              "      <th>std</th>\n",
              "      <td>257.353842</td>\n",
              "      <td>17.596074</td>\n",
              "      <td>1.102743</td>\n",
              "      <td>0.806057</td>\n",
              "      <td>49.693429</td>\n",
              "      <td>0.477990</td>\n",
              "      <td>0.486592</td>\n",
              "      <td>0.836071</td>\n",
              "    </tr>\n",
              "    <tr>\n",
              "      <th>min</th>\n",
              "      <td>1.000000</td>\n",
              "      <td>0.000000</td>\n",
              "      <td>0.000000</td>\n",
              "      <td>0.000000</td>\n",
              "      <td>0.000000</td>\n",
              "      <td>0.000000</td>\n",
              "      <td>0.000000</td>\n",
              "      <td>0.000000</td>\n",
              "    </tr>\n",
              "    <tr>\n",
              "      <th>25%</th>\n",
              "      <td>223.500000</td>\n",
              "      <td>6.000000</td>\n",
              "      <td>0.000000</td>\n",
              "      <td>0.000000</td>\n",
              "      <td>7.910400</td>\n",
              "      <td>0.000000</td>\n",
              "      <td>0.000000</td>\n",
              "      <td>0.000000</td>\n",
              "    </tr>\n",
              "    <tr>\n",
              "      <th>50%</th>\n",
              "      <td>446.000000</td>\n",
              "      <td>24.000000</td>\n",
              "      <td>0.000000</td>\n",
              "      <td>0.000000</td>\n",
              "      <td>14.454200</td>\n",
              "      <td>1.000000</td>\n",
              "      <td>0.000000</td>\n",
              "      <td>0.000000</td>\n",
              "    </tr>\n",
              "    <tr>\n",
              "      <th>75%</th>\n",
              "      <td>668.500000</td>\n",
              "      <td>35.000000</td>\n",
              "      <td>1.000000</td>\n",
              "      <td>0.000000</td>\n",
              "      <td>31.000000</td>\n",
              "      <td>1.000000</td>\n",
              "      <td>1.000000</td>\n",
              "      <td>1.000000</td>\n",
              "    </tr>\n",
              "    <tr>\n",
              "      <th>max</th>\n",
              "      <td>891.000000</td>\n",
              "      <td>80.000000</td>\n",
              "      <td>8.000000</td>\n",
              "      <td>6.000000</td>\n",
              "      <td>512.329200</td>\n",
              "      <td>1.000000</td>\n",
              "      <td>1.000000</td>\n",
              "      <td>2.000000</td>\n",
              "    </tr>\n",
              "  </tbody>\n",
              "</table>\n",
              "</div>"
            ],
            "text/plain": [
              "       PassengerId  ...  passenger_class_codes\n",
              "count   891.000000  ...             891.000000\n",
              "mean    446.000000  ...               0.691358\n",
              "std     257.353842  ...               0.836071\n",
              "min       1.000000  ...               0.000000\n",
              "25%     223.500000  ...               0.000000\n",
              "50%     446.000000  ...               0.000000\n",
              "75%     668.500000  ...               1.000000\n",
              "max     891.000000  ...               2.000000\n",
              "\n",
              "[8 rows x 8 columns]"
            ]
          },
          "metadata": {
            "tags": []
          },
          "execution_count": 10
        }
      ]
    },
    {
      "cell_type": "markdown",
      "metadata": {
        "id": "VKFC26UoOy84",
        "colab_type": "text"
      },
      "source": [
        "A veces es muy dificil poder visualizar la información, cuando solamente son números lo que se nos presentan. Veamos de forma visual la información para ver que más podemos detectar de esta forma."
      ]
    },
    {
      "cell_type": "code",
      "metadata": {
        "id": "HqpwALJ9O9kn",
        "colab_type": "code",
        "colab": {
          "base_uri": "https://localhost:8080/",
          "height": 281
        },
        "outputId": "89275021-8289-4ad6-92b3-2e0be4129f22"
      },
      "source": [
        "# Visualizamos rápidamente las caraterísticas de entrada\n",
        "dfTitanic.drop(['PassengerId','passenger_class', 'passenger_survived', 'passenger_sex'],1).hist()\n",
        "plt.show()"
      ],
      "execution_count": 11,
      "outputs": [
        {
          "output_type": "display_data",
          "data": {
            "image/png": "[encoded data removed]",
            "text/plain": [
              "<Figure size 432x288 with 9 Axes>"
            ]
          },
          "metadata": {
            "tags": [],
            "needs_background": "light"
          }
        }
      ]
    },
    {
      "cell_type": "markdown",
      "metadata": {
        "id": "un3U7SKbPFOx",
        "colab_type": "text"
      },
      "source": [
        "\n",
        "Veamos la correlacion de la informacion respecto a la variable que deseamos predecir"
      ]
    },
    {
      "cell_type": "code",
      "metadata": {
        "id": "TRIOuLQcG6Ee",
        "colab_type": "code",
        "colab": {
          "base_uri": "https://localhost:8080/",
          "height": 153
        },
        "outputId": "f567383e-978c-4641-8b07-04c251746acd"
      },
      "source": [
        "dfTitanic[dfTitanic.columns[1:]].corr()['passenger_survived_category'][:]"
      ],
      "execution_count": 12,
      "outputs": [
        {
          "output_type": "execute_result",
          "data": {
            "text/plain": [
              "Age                            0.010539\n",
              "SibSp                         -0.035322\n",
              "Parch                          0.081629\n",
              "Fare                           0.257307\n",
              "passenger_sex_codes           -0.543351\n",
              "passenger_survived_category    1.000000\n",
              "passenger_class_codes          0.338481\n",
              "Name: passenger_survived_category, dtype: float64"
            ]
          },
          "metadata": {
            "tags": []
          },
          "execution_count": 12
        }
      ]
    },
    {
      "cell_type": "markdown",
      "metadata": {
        "id": "iJ6-kSV-PQY3",
        "colab_type": "text"
      },
      "source": [
        "Con los datos anteriores podemos concluir la siguiente información las features que tienen más correlación postiva con nuestra variable a predecir, donde respecto a las demás features, **Fare** y **Passenger_class** tienen valores no tan grandes cercanos a uno, pero como lo indico anteriormente podrian apoyar bastante en la definición de la variable y a predecir. Ahora bien vemos un comportamiento de *correlacion negativa* con la variable **passenger_sex_cat**."
      ]
    },
    {
      "cell_type": "markdown",
      "metadata": {
        "id": "IZDb5up0PRIH",
        "colab_type": "text"
      },
      "source": [
        "Vamos a proceder a eliminar las features que no nos aportan mayor información a nuestra variable a predecir, además vamos a almacenar la información en los dataframes típicos X y Y simplemente para que sea más facil identificarlas posteriormente."
      ]
    },
    {
      "cell_type": "markdown",
      "metadata": {
        "id": "7UVQ8he8G6Ei",
        "colab_type": "text"
      },
      "source": [
        "#### Depuración de features\n",
        "\n",
        "Se eliminan aquellas características que son identificadores, nombres o etiquetas."
      ]
    },
    {
      "cell_type": "code",
      "metadata": {
        "id": "wFMt36VxG6Ej",
        "colab_type": "code",
        "colab": {}
      },
      "source": [
        "X=dfTitanic.drop(['passenger_survived_category','PassengerId', 'Name', 'Ticket', 'Cabin', 'Embarked', 'passenger_class', 'passenger_sex', 'passenger_survived'], axis=1)\n",
        "Y=dfTitanic['passenger_survived_category']"
      ],
      "execution_count": 13,
      "outputs": []
    },
    {
      "cell_type": "markdown",
      "metadata": {
        "id": "XuqOS97mPX6Q",
        "colab_type": "text"
      },
      "source": [
        "Veamos como luce ahora nuestra data"
      ]
    },
    {
      "cell_type": "code",
      "metadata": {
        "id": "qiE1IQCgPahJ",
        "colab_type": "code",
        "colab": {
          "base_uri": "https://localhost:8080/",
          "height": 204
        },
        "outputId": "3a73056a-bce9-49f9-e8ad-77fd928d38b8"
      },
      "source": [
        "# Features\n",
        "X.head()"
      ],
      "execution_count": 14,
      "outputs": [
        {
          "output_type": "execute_result",
          "data": {
            "text/html": [
              "<div>\n",
              "<style scoped>\n",
              "    .dataframe tbody tr th:only-of-type {\n",
              "        vertical-align: middle;\n",
              "    }\n",
              "\n",
              "    .dataframe tbody tr th {\n",
              "        vertical-align: top;\n",
              "    }\n",
              "\n",
              "    .dataframe thead th {\n",
              "        text-align: right;\n",
              "    }\n",
              "</style>\n",
              "<table border=\"1\" class=\"dataframe\">\n",
              "  <thead>\n",
              "    <tr style=\"text-align: right;\">\n",
              "      <th></th>\n",
              "      <th>Age</th>\n",
              "      <th>SibSp</th>\n",
              "      <th>Parch</th>\n",
              "      <th>Fare</th>\n",
              "      <th>passenger_sex_codes</th>\n",
              "      <th>passenger_class_codes</th>\n",
              "    </tr>\n",
              "  </thead>\n",
              "  <tbody>\n",
              "    <tr>\n",
              "      <th>0</th>\n",
              "      <td>22.0</td>\n",
              "      <td>1</td>\n",
              "      <td>0</td>\n",
              "      <td>7.2500</td>\n",
              "      <td>1</td>\n",
              "      <td>0</td>\n",
              "    </tr>\n",
              "    <tr>\n",
              "      <th>1</th>\n",
              "      <td>38.0</td>\n",
              "      <td>1</td>\n",
              "      <td>0</td>\n",
              "      <td>71.2833</td>\n",
              "      <td>0</td>\n",
              "      <td>2</td>\n",
              "    </tr>\n",
              "    <tr>\n",
              "      <th>2</th>\n",
              "      <td>26.0</td>\n",
              "      <td>0</td>\n",
              "      <td>0</td>\n",
              "      <td>7.9250</td>\n",
              "      <td>0</td>\n",
              "      <td>0</td>\n",
              "    </tr>\n",
              "    <tr>\n",
              "      <th>3</th>\n",
              "      <td>35.0</td>\n",
              "      <td>1</td>\n",
              "      <td>0</td>\n",
              "      <td>53.1000</td>\n",
              "      <td>0</td>\n",
              "      <td>2</td>\n",
              "    </tr>\n",
              "    <tr>\n",
              "      <th>4</th>\n",
              "      <td>35.0</td>\n",
              "      <td>0</td>\n",
              "      <td>0</td>\n",
              "      <td>8.0500</td>\n",
              "      <td>1</td>\n",
              "      <td>0</td>\n",
              "    </tr>\n",
              "  </tbody>\n",
              "</table>\n",
              "</div>"
            ],
            "text/plain": [
              "    Age  SibSp  Parch     Fare  passenger_sex_codes  passenger_class_codes\n",
              "0  22.0      1      0   7.2500                    1                      0\n",
              "1  38.0      1      0  71.2833                    0                      2\n",
              "2  26.0      0      0   7.9250                    0                      0\n",
              "3  35.0      1      0  53.1000                    0                      2\n",
              "4  35.0      0      0   8.0500                    1                      0"
            ]
          },
          "metadata": {
            "tags": []
          },
          "execution_count": 14
        }
      ]
    },
    {
      "cell_type": "code",
      "metadata": {
        "id": "ao5_o2_sPb0C",
        "colab_type": "code",
        "colab": {
          "base_uri": "https://localhost:8080/",
          "height": 119
        },
        "outputId": "b38d63c3-ccd1-4d2c-e962-2e3107739090"
      },
      "source": [
        "# Variable a predecir, label\n",
        "Y.head()"
      ],
      "execution_count": 15,
      "outputs": [
        {
          "output_type": "execute_result",
          "data": {
            "text/plain": [
              "0    0\n",
              "1    1\n",
              "2    1\n",
              "3    1\n",
              "4    0\n",
              "Name: passenger_survived_category, dtype: int8"
            ]
          },
          "metadata": {
            "tags": []
          },
          "execution_count": 15
        }
      ]
    },
    {
      "cell_type": "markdown",
      "metadata": {
        "id": "i4A49ctOPgJM",
        "colab_type": "text"
      },
      "source": [
        "Ahora ya es un poco mas visible de acuerdo al cuadro de correlaciones y visualizando un poco los datos de forma mas limpia respecto a que features podemos usar para iniciar a armar nuestro modelo.\n",
        "\n",
        "*   Fare (correlacion positiva)\n",
        "*   passenger_class_cat (correlacion positiva)\n",
        "*   passenger_sex_cat (correlacion negativa)\n"
      ]
    },
    {
      "cell_type": "markdown",
      "metadata": {
        "id": "mvnFllLlPiv6",
        "colab_type": "text"
      },
      "source": [
        "De igual forma, veamos que nos dice una herramienta para seleccion de features"
      ]
    },
    {
      "cell_type": "code",
      "metadata": {
        "id": "XkW_xH2sG6En",
        "colab_type": "code",
        "colab": {
          "base_uri": "https://localhost:8080/",
          "height": 34
        },
        "outputId": "eee6d25e-3c5a-4f02-a936-630564a1e4ab"
      },
      "source": [
        "bestFeature = SelectKBest(k=3)\n",
        "bestFeature.fit_transform(X, Y)\n",
        "selectedFeature = bestFeature.get_support(indices=True)\n",
        "print(X.columns[selectedFeature])"
      ],
      "execution_count": 16,
      "outputs": [
        {
          "output_type": "stream",
          "text": [
            "Index(['Fare', 'passenger_sex_codes', 'passenger_class_codes'], dtype='object')\n"
          ],
          "name": "stdout"
        }
      ]
    },
    {
      "cell_type": "markdown",
      "metadata": {
        "id": "8DT3eWVQG6Ep",
        "colab_type": "text"
      },
      "source": [
        "Por lo que por orden de prioridad corresponden a la seleccion realizada anteriormente\n",
        "\n",
        "\n",
        "*   passenger_sex_cat\n",
        "*   passenger_class_cat\n",
        "*   Fare\n",
        "\n",
        "Por lo que ya con toda seguridad podemos tomar estas tres features, para iniciar el proceso de entrenamiento de nuestro modelo"
      ]
    },
    {
      "cell_type": "markdown",
      "metadata": {
        "id": "WR14lCEzPw-t",
        "colab_type": "text"
      },
      "source": [
        "Ya como ultimo paso, limpiamos nuestras features de aquellas que no vamos a utilizar para predecir."
      ]
    },
    {
      "cell_type": "code",
      "metadata": {
        "id": "O9oJpvk5G6Et",
        "colab_type": "code",
        "colab": {}
      },
      "source": [
        "used_features = X.columns[selectedFeature]\n",
        "X = X.drop(['Parch', 'Age', 'SibSp'], axis=1)"
      ],
      "execution_count": 17,
      "outputs": []
    },
    {
      "cell_type": "markdown",
      "metadata": {
        "id": "K6_zeK6uP6tn",
        "colab_type": "text"
      },
      "source": [
        "Veamos como luce el dataframe de features nuevamente"
      ]
    },
    {
      "cell_type": "code",
      "metadata": {
        "id": "fiC6haL9P8RZ",
        "colab_type": "code",
        "colab": {
          "base_uri": "https://localhost:8080/",
          "height": 204
        },
        "outputId": "989ae4cd-8280-4bd7-ec28-38d1c787ec89"
      },
      "source": [
        "X.head()"
      ],
      "execution_count": 18,
      "outputs": [
        {
          "output_type": "execute_result",
          "data": {
            "text/html": [
              "<div>\n",
              "<style scoped>\n",
              "    .dataframe tbody tr th:only-of-type {\n",
              "        vertical-align: middle;\n",
              "    }\n",
              "\n",
              "    .dataframe tbody tr th {\n",
              "        vertical-align: top;\n",
              "    }\n",
              "\n",
              "    .dataframe thead th {\n",
              "        text-align: right;\n",
              "    }\n",
              "</style>\n",
              "<table border=\"1\" class=\"dataframe\">\n",
              "  <thead>\n",
              "    <tr style=\"text-align: right;\">\n",
              "      <th></th>\n",
              "      <th>Fare</th>\n",
              "      <th>passenger_sex_codes</th>\n",
              "      <th>passenger_class_codes</th>\n",
              "    </tr>\n",
              "  </thead>\n",
              "  <tbody>\n",
              "    <tr>\n",
              "      <th>0</th>\n",
              "      <td>7.2500</td>\n",
              "      <td>1</td>\n",
              "      <td>0</td>\n",
              "    </tr>\n",
              "    <tr>\n",
              "      <th>1</th>\n",
              "      <td>71.2833</td>\n",
              "      <td>0</td>\n",
              "      <td>2</td>\n",
              "    </tr>\n",
              "    <tr>\n",
              "      <th>2</th>\n",
              "      <td>7.9250</td>\n",
              "      <td>0</td>\n",
              "      <td>0</td>\n",
              "    </tr>\n",
              "    <tr>\n",
              "      <th>3</th>\n",
              "      <td>53.1000</td>\n",
              "      <td>0</td>\n",
              "      <td>2</td>\n",
              "    </tr>\n",
              "    <tr>\n",
              "      <th>4</th>\n",
              "      <td>8.0500</td>\n",
              "      <td>1</td>\n",
              "      <td>0</td>\n",
              "    </tr>\n",
              "  </tbody>\n",
              "</table>\n",
              "</div>"
            ],
            "text/plain": [
              "      Fare  passenger_sex_codes  passenger_class_codes\n",
              "0   7.2500                    1                      0\n",
              "1  71.2833                    0                      2\n",
              "2   7.9250                    0                      0\n",
              "3  53.1000                    0                      2\n",
              "4   8.0500                    1                      0"
            ]
          },
          "metadata": {
            "tags": []
          },
          "execution_count": 18
        }
      ]
    },
    {
      "cell_type": "markdown",
      "metadata": {
        "id": "-mWSdvvcP_UI",
        "colab_type": "text"
      },
      "source": [
        "# Iniciando con el entrenamiento\n",
        "Como ya es costumbre procedemos a dividir nuestra informacion en el conocido 80 - 20, donde el 80% de datos los vamos a utilizar para entrenar nuestro modelo"
      ]
    },
    {
      "cell_type": "markdown",
      "metadata": {
        "id": "iOK1IozYG6Ew",
        "colab_type": "text"
      },
      "source": [
        "#### División de datos para entreno, validación y prueba"
      ]
    },
    {
      "cell_type": "code",
      "metadata": {
        "id": "mNa1DqTGG6Ew",
        "colab_type": "code",
        "colab": {}
      },
      "source": [
        "xTrainingData, xTestingData, yTrainingData, yTestingData = train_test_split(X, Y, test_size=0.2)\n",
        "xTrainingData, x_validate, yTrainingData, yValidateData = train_test_split(xTrainingData, yTrainingData, test_size=0.3)"
      ],
      "execution_count": 19,
      "outputs": []
    },
    {
      "cell_type": "markdown",
      "metadata": {
        "id": "KAjrMw03G6Ey",
        "colab_type": "text"
      },
      "source": [
        "# Funciones comunes y generales para la definicion del proyecto"
      ]
    },
    {
      "cell_type": "code",
      "metadata": {
        "id": "625M5ewJG6Ez",
        "colab_type": "code",
        "colab": {}
      },
      "source": [
        "#crea el CSV para el log\n",
        "logFile = {'string_config': [], 'accuracy': [], 'error': [], 'precision': [], 'recall': [], 'f1': []}\n",
        "df = pd.DataFrame(logFile, columns= ['string_config', 'accuracy', 'error', 'precision', 'recall', 'f1'])\n",
        "df.to_csv('gdrive/My Drive/Colab Notebooks/proyecto1_modelos/logFile.csv', index = False, header=True)"
      ],
      "execution_count": 20,
      "outputs": []
    },
    {
      "cell_type": "code",
      "metadata": {
        "id": "3wU4rrFCG6E2",
        "colab_type": "code",
        "colab": {}
      },
      "source": [
        "# rescribe el log csv\n",
        "def set_record(string_config, metrics):\n",
        "    logFile = {'string_config': [string_config], \n",
        "                'accuracy': [metrics[0]],\n",
        "                'error': [metrics[1]],\n",
        "                'precision': [metrics[2]],\n",
        "                'recall': [metrics[3]],\n",
        "                'f1': [metrics[4]]}\n",
        "    logFile = pd.DataFrame(logFile, columns= ['string_config', 'accuracy', 'error', 'precision', 'recall', 'f1'])\n",
        "    logFile.to_csv('logFile.csv', mode='a', index = False, header=False)"
      ],
      "execution_count": 21,
      "outputs": []
    },
    {
      "cell_type": "code",
      "metadata": {
        "id": "MzJ4eML3G6E6",
        "colab_type": "code",
        "colab": {}
      },
      "source": [
        "# cadena que concatena las metricas\n",
        "def getGlobalString(str_model, mtr):\n",
        "    return \"Model: \"+str_model+\" \\n Accuracy: \" + get_percent(mtr[0])+\" \\n Error: \"+get_percent(mtr[1])+\" \\n Precision: \"+get_percent(mtr[2])+\" \\n Recall: \"+get_percent(mtr[3])+\" \\n F1: \"+get_percent(mtr[4])"
      ],
      "execution_count": 22,
      "outputs": []
    },
    {
      "cell_type": "code",
      "metadata": {
        "id": "S6DN9ZLZG6E-",
        "colab_type": "code",
        "colab": {}
      },
      "source": [
        "# genera una representacion de porcentaje\n",
        "def get_percent(number):\n",
        "    return str(round((number*100),2))+\"%\""
      ],
      "execution_count": 23,
      "outputs": []
    },
    {
      "cell_type": "code",
      "metadata": {
        "id": "1nkDqOHTG6FD",
        "colab_type": "code",
        "colab": {}
      },
      "source": [
        "def getGlobalMetrics(y_true, y_predict):\n",
        "\n",
        "    accuracy = accuracy_score(y_true, y_predict)\n",
        "    error = mean_squared_error(y_true, y_predict)\n",
        "    precision = precision_score(y_true, y_predict, average='weighted')\n",
        "    recall = recall_score(y_true, y_predict, average='weighted')\n",
        "    f1 = f1_score(y_true, y_predict, average=\"weighted\")\n",
        "    \n",
        "    return accuracy, error, precision, recall, f1"
      ],
      "execution_count": 24,
      "outputs": []
    },
    {
      "cell_type": "code",
      "metadata": {
        "id": "FGsQbgFlG6FM",
        "colab_type": "code",
        "colab": {}
      },
      "source": [
        "def moda(data):\n",
        "    repetitions = 0\n",
        "    moda = -1\n",
        "    for i in data:\n",
        "        n = data.count(i)\n",
        "        if n > repetitions:\n",
        "            repetitions = n\n",
        "    for i in data:\n",
        "        n = data.count(i)\n",
        "        if n == repetitions and moda == -1:\n",
        "            moda = i     \n",
        "    return moda"
      ],
      "execution_count": 25,
      "outputs": []
    },
    {
      "cell_type": "code",
      "metadata": {
        "id": "u4GMzFgCG6FO",
        "colab_type": "code",
        "colab": {}
      },
      "source": [
        "def get_final_prediction(prediction_joined):\n",
        "    moda_prediction = []\n",
        "    for predict in prediction_joined:\n",
        "        moda_predict = moda(list(predict))\n",
        "        moda_prediction.append(moda_predict)\n",
        "    return np.array(moda_prediction)"
      ],
      "execution_count": 26,
      "outputs": []
    },
    {
      "cell_type": "code",
      "metadata": {
        "id": "68-OWwwCG6FI",
        "colab_type": "code",
        "colab": {}
      },
      "source": [
        "def createModel(str_config, str_model, model, metrics, isSkL):\n",
        "    print(getGlobalString(str_model, metrics))\n",
        "    set_record(str_config, metrics)\n",
        "    path = \"gdrive/My Drive/Colab Notebooks/proyecto1_modelos/\"+\"_\"+datetime.now().strftime(\"%Y%m%d_%H%M%S\")+\"_\"+ str_config\n",
        "    if(not isSkL):\n",
        "        if (str_model == \"Naive Bayes\"):\n",
        "            os.mkdir(path)\n",
        "            model[\"mean\"].to_csv(path+\"/media.csv\", index = False, header=True)\n",
        "            model[\"stdev\"].to_csv(path+\"/desviacion.csv\", index = False, header=True)        \n",
        "            pd.DataFrame(data=model[\"probabilities\"][0:2], columns=[\"probabilities\"]).to_csv(path+\"/probabilidades.csv\", index = False, header=True)\n",
        "            pd.DataFrame(data=model[\"class\"][0:2], columns=[\"class\"]).to_csv(path+\"/class.csv\", index = False, header=True)\n",
        "        else:\n",
        "            pd.DataFrame(data=model[0], columns=[\"params\"]).to_csv(path+\".csv\", index = False, header=True)\n",
        "    else:\n",
        "        dump(model, path+\".joblib\")\n",
        "        "
      ],
      "execution_count": 27,
      "outputs": []
    },
    {
      "cell_type": "markdown",
      "metadata": {
        "id": "W1bVxYswG6FQ",
        "colab_type": "text"
      },
      "source": [
        "### Definción de Modelos"
      ]
    },
    {
      "cell_type": "markdown",
      "metadata": {
        "id": "39slO0bEG6FQ",
        "colab_type": "text"
      },
      "source": [
        "#### Árbol de decisión"
      ]
    },
    {
      "cell_type": "code",
      "metadata": {
        "id": "XuaqoAUqG6FR",
        "colab_type": "code",
        "colab": {}
      },
      "source": [
        "def model_decision_tree(xTrainingData, yTrainingData, x_validate, yValidateData):\n",
        "    \n",
        "    tree_model = tree.DecisionTreeClassifier()\n",
        "    tree_model = tree_model.fit(xTrainingData, yTrainingData)\n",
        "    y_predict = tree_model.predict(x_validate)\n",
        "    \n",
        "    return y_predict, tree_model, getGlobalMetrics(yValidateData, y_predict)"
      ],
      "execution_count": 28,
      "outputs": []
    },
    {
      "cell_type": "markdown",
      "metadata": {
        "id": "FeW_T6_1G6FU",
        "colab_type": "text"
      },
      "source": [
        "#### SVM"
      ]
    },
    {
      "cell_type": "code",
      "metadata": {
        "id": "8y0MFLo8G6FU",
        "colab_type": "code",
        "colab": {}
      },
      "source": [
        "def model_svm(xTrainingData, yTrainingData, x_validate, yValidateData):\n",
        "\n",
        "    svm_model = svm.SVC()\n",
        "    svm_model = svm_model.fit(xTrainingData, yTrainingData)\n",
        "    y_predict = svm_model.predict(x_validate)\n",
        "    \n",
        "    return y_predict, svm_model, getGlobalMetrics(yValidateData, y_predict)"
      ],
      "execution_count": 29,
      "outputs": []
    },
    {
      "cell_type": "markdown",
      "metadata": {
        "id": "erfqGcduG6FX",
        "colab_type": "text"
      },
      "source": [
        "#### Naive Bayes"
      ]
    },
    {
      "cell_type": "code",
      "metadata": {
        "id": "4xKNilMbG6FY",
        "colab_type": "code",
        "colab": {}
      },
      "source": [
        "def predict_naive_bayes(model, x_validate):\n",
        "    y_predict = []\n",
        "    for i in range(x_validate.shape[0]):\n",
        "        probability={}\n",
        "        for y_class in model[\"class\"]:\n",
        "            probability[y_class] = model[\"probabilities\"].iloc[y_class]\n",
        "            for index, _ in enumerate(x_validate.iloc[i]):\n",
        "                probability[y_class] *= norm.pdf(x_validate.iloc[i], model[\"mean\"].iloc[y_class, index], model[\"stdev\"].iloc[y_class, index])\n",
        "        y_predict.append(get_argmax(probability))\n",
        "    return y_predict"
      ],
      "execution_count": 30,
      "outputs": []
    },
    {
      "cell_type": "code",
      "metadata": {
        "id": "3ivl1tHZG6Fa",
        "colab_type": "code",
        "colab": {}
      },
      "source": [
        "def get_argmax(probability):\n",
        "    max_value = 0\n",
        "    argmax = -1\n",
        "    for (key, value) in probability.items():\n",
        "        if (key == 0):\n",
        "            max_value = max(value)\n",
        "            argmax = key\n",
        "        else:\n",
        "            tmp = max(value)\n",
        "            if(max_value < tmp):\n",
        "                max_value = tmp\n",
        "                argmax = key\n",
        "    return argmax"
      ],
      "execution_count": 31,
      "outputs": []
    },
    {
      "cell_type": "code",
      "metadata": {
        "id": "ufjeKqbIG6Fi",
        "colab_type": "code",
        "colab": {}
      },
      "source": [
        "def model_naive_bayes(xTrainingData, yTrainingData, x_validate, yValidateData):\n",
        "    \n",
        "    mean = xTrainingData.groupby(yTrainingData).apply(np.mean)\n",
        "    stdev = xTrainingData.groupby(yTrainingData).apply(np.std)\n",
        "    probabilities = xTrainingData.groupby(yTrainingData).apply(lambda x: len(x) / xTrainingData.shape[0])\n",
        "    y_class = np.unique(yTrainingData)\n",
        "    bayes_model = {\"mean\":mean, \"stdev\":stdev, \"probabilities\":probabilities, \"class\":y_class}\n",
        "    y_predict = predict_naive_bayes(bayes_model, x_validate)\n",
        "    \n",
        "    return y_predict, bayes_model, getGlobalMetrics(yValidateData, y_predict)"
      ],
      "execution_count": 32,
      "outputs": []
    },
    {
      "cell_type": "markdown",
      "metadata": {
        "id": "T-bFU3zmG6Fm",
        "colab_type": "text"
      },
      "source": [
        "#### Regresión Logística"
      ]
    },
    {
      "cell_type": "code",
      "metadata": {
        "id": "uaOA76VLG6Fn",
        "colab_type": "code",
        "colab": {}
      },
      "source": [
        "def sigmoid(x):\n",
        "    return 1 / (1 + math.exp(-x))"
      ],
      "execution_count": 33,
      "outputs": []
    },
    {
      "cell_type": "code",
      "metadata": {
        "id": "FjTkqTY5G6Fr",
        "colab_type": "code",
        "colab": {}
      },
      "source": [
        "def predict_reg_logistic(model, x_validate):\n",
        "    y_predict = []\n",
        "    for feature in x_validate.values:\n",
        "        value = 0\n",
        "        for i in range(len(feature)):\n",
        "            value += feature[i] * model[i][0]\n",
        "        value_sigmoid = sigmoid(value)\n",
        "        if value_sigmoid >= 0.5:\n",
        "            y_predict.append(1)\n",
        "        else:\n",
        "            y_predict.append(0)\n",
        "    return y_predict"
      ],
      "execution_count": 34,
      "outputs": []
    },
    {
      "cell_type": "code",
      "metadata": {
        "id": "Gp0gbc4RG6Fv",
        "colab_type": "code",
        "colab": {
          "base_uri": "https://localhost:8080/",
          "height": 153
        },
        "outputId": "bebc79bf-3ca6-4448-f829-d709c4fe23c1"
      },
      "source": [
        "# Grafo\n",
        "tf.reset_default_graph()\n",
        "\n",
        "weight = tf.Variable(tf.truncated_normal([2, 1]), name = \"weight\", dtype = tf.float32)\n",
        "bias = tf.Variable(tf.zeros([]), name = \"bias\", dtype = tf.float32)\n",
        "\n",
        "learning_rate = tf.placeholder(shape = [], name = \"learning_rate\", dtype = tf.float32)\n",
        "factor_reg = tf.placeholder(tf.float32)\n",
        "tensor_x = tf.placeholder(shape = [None, 2], name = \"tensor_x\", dtype = tf.float32)\n",
        "tensor_y = tf.placeholder(shape = [None, 1], name = \"tensor_y\", dtype = tf.float32)\n",
        "\n",
        "with tf.name_scope(\"logits\"):\n",
        "    logits = tf.matmul(tensor_x, weight) + bias\n",
        "    \n",
        "with tf.name_scope(\"cross_entropy\"):\n",
        "    regularization = tf.nn.l2_loss(weight);\n",
        "    cross_entropy = tf.reduce_mean(tf.nn.softmax_cross_entropy_with_logits(logits = logits, labels = tensor_y)) + (factor_reg*regularization)\n",
        "    cross_entropy_summary = tf.summary.scalar(name=\"cross_entropy\",tensor=cross_entropy)\n",
        "\n",
        "with tf.name_scope(\"accuracy\"):\n",
        "    accuracy = tf.reduce_mean(tf.cast(tf.equal(tf.argmax(logits,1), tf.argmax(tensor_y,1)), tf.float32))\n",
        "    accuracy_summary = tf.summary.scalar(name=\"accuracy\",tensor=accuracy)\n",
        "\n",
        "with tf.name_scope(\"gradient\"):\n",
        "    gradient = tf.gradients(cross_entropy, weight)\n",
        "\n",
        "with tf.name_scope(\"new_weight\"):\n",
        "    new_weight = tf.assign(weight, weight - learning_rate * gradient[0])\n",
        "\n",
        "init = tf.global_variables_initializer()"
      ],
      "execution_count": 35,
      "outputs": [
        {
          "output_type": "stream",
          "text": [
            "WARNING:tensorflow:From <ipython-input-35-b4131c536015>:17: softmax_cross_entropy_with_logits (from tensorflow.python.ops.nn_ops) is deprecated and will be removed in a future version.\n",
            "Instructions for updating:\n",
            "\n",
            "Future major versions of TensorFlow will allow gradients to flow\n",
            "into the labels input on backprop by default.\n",
            "\n",
            "See `tf.nn.softmax_cross_entropy_with_logits_v2`.\n",
            "\n"
          ],
          "name": "stdout"
        }
      ]
    },
    {
      "cell_type": "code",
      "metadata": {
        "id": "-8xm6_2YG6Fy",
        "colab_type": "code",
        "colab": {}
      },
      "source": [
        "# Batch Gradient Descent\n",
        "def model_reg_logistic(xTrainingData, yTrainingData, x_validate, yValidateData, epochs, batch_size, total_iter, lr, rg):\n",
        "    with tf.train.MonitoredSession() as session:\n",
        "        session.run(init)\n",
        "        for epoch in range(epochs):\n",
        "            for i in range(total_iter):\n",
        "                start_index = i*batch_size\n",
        "                end_index = start_index+batch_size\n",
        "                x = np.array(xTrainingData[start_index:end_index])\n",
        "                y = np.array(yTrainingData[start_index:end_index]).reshape(batch_size,1)\n",
        "\n",
        "                feed_dict = {tensor_x:x, tensor_y:y, learning_rate:lr, factor_reg:rg}\n",
        "                _, c, a, w, b= session.run([new_weight, cross_entropy, accuracy, weight, bias],feed_dict=feed_dict)\n",
        "    reg_logistic_model = [w,b]\n",
        "    y_predict = predict_reg_logistic(reg_logistic_model, x_validate)\n",
        "        \n",
        "    return y_predict, reg_logistic_model, getGlobalMetrics(yValidateData, y_predict)"
      ],
      "execution_count": 36,
      "outputs": []
    },
    {
      "cell_type": "markdown",
      "metadata": {
        "id": "CZ1_EgeeG6F0",
        "colab_type": "text"
      },
      "source": [
        "# Experimentos"
      ]
    },
    {
      "cell_type": "markdown",
      "metadata": {
        "id": "w8Kb_Ir8fOxT",
        "colab_type": "text"
      },
      "source": [
        "**Árbol de decisión**"
      ]
    },
    {
      "cell_type": "code",
      "metadata": {
        "id": "YGa-j8yUG6F0",
        "colab_type": "code",
        "colab": {
          "base_uri": "https://localhost:8080/",
          "height": 119
        },
        "outputId": "9c50889e-8a34-4b97-aaff-2fe9b0117b5e"
      },
      "source": [
        "prediction, tree_model, metrics = model_decision_tree(xTrainingData[used_features], yTrainingData, x_validate[used_features], yValidateData)\n",
        "createModel(\"log_decision_tree\", \"Decision Tree\", tree_model, metrics, True)"
      ],
      "execution_count": 37,
      "outputs": [
        {
          "output_type": "stream",
          "text": [
            "Model: Decision Tree \n",
            " Accuracy: 77.57% \n",
            " Error: 22.43% \n",
            " Precision: 77.45% \n",
            " Recall: 77.57% \n",
            " F1: 77.4%\n"
          ],
          "name": "stdout"
        }
      ]
    },
    {
      "cell_type": "markdown",
      "metadata": {
        "id": "EZoWjIcWG6F2",
        "colab_type": "text"
      },
      "source": [
        "**SVM**"
      ]
    },
    {
      "cell_type": "code",
      "metadata": {
        "id": "FDzsbI67G6F3",
        "colab_type": "code",
        "colab": {
          "base_uri": "https://localhost:8080/",
          "height": 119
        },
        "outputId": "d59b7ce4-9eed-49ef-c304-d2b688d09090"
      },
      "source": [
        "prediction, svm_model, metrics = model_svm(xTrainingData[used_features], yTrainingData, x_validate[used_features], yValidateData)\n",
        "createModel(\"log_svm\", \"SVM\", svm_model, metrics, True)"
      ],
      "execution_count": 38,
      "outputs": [
        {
          "output_type": "stream",
          "text": [
            "Model: SVM \n",
            " Accuracy: 63.08% \n",
            " Error: 36.92% \n",
            " Precision: 63.0% \n",
            " Recall: 63.08% \n",
            " F1: 59.5%\n"
          ],
          "name": "stdout"
        }
      ]
    },
    {
      "cell_type": "markdown",
      "metadata": {
        "id": "RmJEvR4FG6F5",
        "colab_type": "text"
      },
      "source": [
        "**Naive Bayes**"
      ]
    },
    {
      "cell_type": "code",
      "metadata": {
        "id": "LH3ZKFM3G6F6",
        "colab_type": "code",
        "colab": {
          "base_uri": "https://localhost:8080/",
          "height": 173
        },
        "outputId": "d53a7c1d-56ef-4cfa-e8cc-c8168f422624"
      },
      "source": [
        "prediction, bayes_model, metrics = model_naive_bayes(xTrainingData[used_features], yTrainingData, x_validate[used_features], yValidateData)\n",
        "createModel(\"log_bayes\", \"Naive Bayes\", bayes_model, metrics, False)"
      ],
      "execution_count": 39,
      "outputs": [
        {
          "output_type": "stream",
          "text": [
            "Model: Naive Bayes \n",
            " Accuracy: 57.94% \n",
            " Error: 42.06% \n",
            " Precision: 33.57% \n",
            " Recall: 57.94% \n",
            " F1: 42.52%\n"
          ],
          "name": "stdout"
        },
        {
          "output_type": "stream",
          "text": [
            "/usr/local/lib/python3.6/dist-packages/sklearn/metrics/_classification.py:1272: UndefinedMetricWarning: Precision is ill-defined and being set to 0.0 in labels with no predicted samples. Use `zero_division` parameter to control this behavior.\n",
            "  _warn_prf(average, modifier, msg_start, len(result))\n"
          ],
          "name": "stderr"
        }
      ]
    },
    {
      "cell_type": "markdown",
      "metadata": {
        "id": "crZ1bjvgG6F9",
        "colab_type": "text"
      },
      "source": [
        "**Regresión Logística**"
      ]
    },
    {
      "cell_type": "code",
      "metadata": {
        "id": "Eil40j9fG6GA",
        "colab_type": "code",
        "colab": {}
      },
      "source": [
        "x_test_ = xTestingData.drop(['Fare'], axis=1)\n",
        "y_predict_tree = tree_model.predict(xTestingData)\n",
        "y_predict_bayes = predict_naive_bayes(bayes_model, xTestingData)"
      ],
      "execution_count": 40,
      "outputs": []
    },
    {
      "cell_type": "markdown",
      "metadata": {
        "id": "BDC-EDPuG6GE",
        "colab_type": "text"
      },
      "source": [
        "# Predicciones"
      ]
    },
    {
      "cell_type": "code",
      "metadata": {
        "id": "w5ZflAnSG6GF",
        "colab_type": "code",
        "colab": {
          "base_uri": "https://localhost:8080/",
          "height": 359
        },
        "outputId": "fb7e3579-04e0-4c34-e65c-7491acb47289"
      },
      "source": [
        "y_predict_joined = np.stack((y_predict_tree, y_predict_bayes), axis=-1)\n",
        "y_moda_predicted = get_final_prediction(y_predict_joined)\n",
        "y_prediction_summary = np.stack((y_predict_tree, y_predict_bayes, y_moda_predicted), axis=-1)\n",
        "df_predictions = pd.DataFrame(y_prediction_summary, columns = [\"Decision Tree\",\"Bayes\",\"Moda Predict\"])\n",
        "df_predictions.head(10)"
      ],
      "execution_count": 41,
      "outputs": [
        {
          "output_type": "execute_result",
          "data": {
            "text/html": [
              "<div>\n",
              "<style scoped>\n",
              "    .dataframe tbody tr th:only-of-type {\n",
              "        vertical-align: middle;\n",
              "    }\n",
              "\n",
              "    .dataframe tbody tr th {\n",
              "        vertical-align: top;\n",
              "    }\n",
              "\n",
              "    .dataframe thead th {\n",
              "        text-align: right;\n",
              "    }\n",
              "</style>\n",
              "<table border=\"1\" class=\"dataframe\">\n",
              "  <thead>\n",
              "    <tr style=\"text-align: right;\">\n",
              "      <th></th>\n",
              "      <th>Decision Tree</th>\n",
              "      <th>Bayes</th>\n",
              "      <th>Moda Predict</th>\n",
              "    </tr>\n",
              "  </thead>\n",
              "  <tbody>\n",
              "    <tr>\n",
              "      <th>0</th>\n",
              "      <td>0</td>\n",
              "      <td>0</td>\n",
              "      <td>0</td>\n",
              "    </tr>\n",
              "    <tr>\n",
              "      <th>1</th>\n",
              "      <td>1</td>\n",
              "      <td>0</td>\n",
              "      <td>1</td>\n",
              "    </tr>\n",
              "    <tr>\n",
              "      <th>2</th>\n",
              "      <td>0</td>\n",
              "      <td>0</td>\n",
              "      <td>0</td>\n",
              "    </tr>\n",
              "    <tr>\n",
              "      <th>3</th>\n",
              "      <td>0</td>\n",
              "      <td>0</td>\n",
              "      <td>0</td>\n",
              "    </tr>\n",
              "    <tr>\n",
              "      <th>4</th>\n",
              "      <td>0</td>\n",
              "      <td>0</td>\n",
              "      <td>0</td>\n",
              "    </tr>\n",
              "    <tr>\n",
              "      <th>5</th>\n",
              "      <td>0</td>\n",
              "      <td>0</td>\n",
              "      <td>0</td>\n",
              "    </tr>\n",
              "    <tr>\n",
              "      <th>6</th>\n",
              "      <td>0</td>\n",
              "      <td>0</td>\n",
              "      <td>0</td>\n",
              "    </tr>\n",
              "    <tr>\n",
              "      <th>7</th>\n",
              "      <td>0</td>\n",
              "      <td>0</td>\n",
              "      <td>0</td>\n",
              "    </tr>\n",
              "    <tr>\n",
              "      <th>8</th>\n",
              "      <td>0</td>\n",
              "      <td>0</td>\n",
              "      <td>0</td>\n",
              "    </tr>\n",
              "    <tr>\n",
              "      <th>9</th>\n",
              "      <td>1</td>\n",
              "      <td>0</td>\n",
              "      <td>1</td>\n",
              "    </tr>\n",
              "  </tbody>\n",
              "</table>\n",
              "</div>"
            ],
            "text/plain": [
              "   Decision Tree  Bayes  Moda Predict\n",
              "0              0      0             0\n",
              "1              1      0             1\n",
              "2              0      0             0\n",
              "3              0      0             0\n",
              "4              0      0             0\n",
              "5              0      0             0\n",
              "6              0      0             0\n",
              "7              0      0             0\n",
              "8              0      0             0\n",
              "9              1      0             1"
            ]
          },
          "metadata": {
            "tags": []
          },
          "execution_count": 41
        }
      ]
    },
    {
      "cell_type": "markdown",
      "metadata": {
        "id": "b8XMtVi_G6GS",
        "colab_type": "text"
      },
      "source": [
        "#### Cálculo de Métricas"
      ]
    },
    {
      "cell_type": "code",
      "metadata": {
        "id": "63g7BZ1fG6GS",
        "colab_type": "code",
        "colab": {
          "base_uri": "https://localhost:8080/",
          "height": 258
        },
        "outputId": "66d56708-d5c8-434c-a285-fad1fd988117"
      },
      "source": [
        "metrics_tree = getGlobalMetrics(yTestingData, y_predict_tree)\n",
        "metrics_bayes = getGlobalMetrics(yTestingData, y_predict_bayes)\n",
        "metrics_moda_predicted = getGlobalMetrics(yTestingData, y_moda_predicted)\n",
        "metrics_joined = np.stack((metrics_tree, metrics_bayes, metrics_moda_predicted), axis=-1)\n",
        "df_metrics = pd.DataFrame(metrics_joined, index = [\"Accuracy\",\"Error\",\"Precision\",\"Recall\",\"F1\"], \n",
        "                          columns = [\"Decision Tree\",\"Bayes\",\"Moda Predict\"])\n",
        "df_metrics"
      ],
      "execution_count": 42,
      "outputs": [
        {
          "output_type": "stream",
          "text": [
            "/usr/local/lib/python3.6/dist-packages/sklearn/metrics/_classification.py:1272: UndefinedMetricWarning: Precision is ill-defined and being set to 0.0 in labels with no predicted samples. Use `zero_division` parameter to control this behavior.\n",
            "  _warn_prf(average, modifier, msg_start, len(result))\n"
          ],
          "name": "stderr"
        },
        {
          "output_type": "execute_result",
          "data": {
            "text/html": [
              "<div>\n",
              "<style scoped>\n",
              "    .dataframe tbody tr th:only-of-type {\n",
              "        vertical-align: middle;\n",
              "    }\n",
              "\n",
              "    .dataframe tbody tr th {\n",
              "        vertical-align: top;\n",
              "    }\n",
              "\n",
              "    .dataframe thead th {\n",
              "        text-align: right;\n",
              "    }\n",
              "</style>\n",
              "<table border=\"1\" class=\"dataframe\">\n",
              "  <thead>\n",
              "    <tr style=\"text-align: right;\">\n",
              "      <th></th>\n",
              "      <th>Decision Tree</th>\n",
              "      <th>Bayes</th>\n",
              "      <th>Moda Predict</th>\n",
              "    </tr>\n",
              "  </thead>\n",
              "  <tbody>\n",
              "    <tr>\n",
              "      <th>Accuracy</th>\n",
              "      <td>0.770950</td>\n",
              "      <td>0.642458</td>\n",
              "      <td>0.770950</td>\n",
              "    </tr>\n",
              "    <tr>\n",
              "      <th>Error</th>\n",
              "      <td>0.229050</td>\n",
              "      <td>0.357542</td>\n",
              "      <td>0.229050</td>\n",
              "    </tr>\n",
              "    <tr>\n",
              "      <th>Precision</th>\n",
              "      <td>0.768854</td>\n",
              "      <td>0.412752</td>\n",
              "      <td>0.768854</td>\n",
              "    </tr>\n",
              "    <tr>\n",
              "      <th>Recall</th>\n",
              "      <td>0.770950</td>\n",
              "      <td>0.642458</td>\n",
              "      <td>0.770950</td>\n",
              "    </tr>\n",
              "    <tr>\n",
              "      <th>F1</th>\n",
              "      <td>0.769676</td>\n",
              "      <td>0.502603</td>\n",
              "      <td>0.769676</td>\n",
              "    </tr>\n",
              "  </tbody>\n",
              "</table>\n",
              "</div>"
            ],
            "text/plain": [
              "           Decision Tree     Bayes  Moda Predict\n",
              "Accuracy        0.770950  0.642458      0.770950\n",
              "Error           0.229050  0.357542      0.229050\n",
              "Precision       0.768854  0.412752      0.768854\n",
              "Recall          0.770950  0.642458      0.770950\n",
              "F1              0.769676  0.502603      0.769676"
            ]
          },
          "metadata": {
            "tags": []
          },
          "execution_count": 42
        }
      ]
    },
    {
      "cell_type": "markdown",
      "metadata": {
        "id": "cUHebxIIbjT9",
        "colab_type": "text"
      },
      "source": [
        "# Conclusiones"
      ]
    },
    {
      "cell_type": "markdown",
      "metadata": {
        "id": "QSHj8ZWfG6GY",
        "colab_type": "text"
      },
      "source": [
        "\n",
        "\n",
        "1.   Segun el numero de experimentos realizados el modelo que ofrece una mayor exactitud es el de arbol de decision, debido que respecto a los otros que pude realizar las pruebas este converge mucho mas rapido"
      ]
    },
    {
      "cell_type": "markdown",
      "metadata": {
        "id": "duMmkJ5fG6GY",
        "colab_type": "text"
      },
      "source": [
        "# Investigación"
      ]
    },
    {
      "cell_type": "markdown",
      "metadata": {
        "id": "EE-SeIkFG6GZ",
        "colab_type": "text"
      },
      "source": [
        "**K-Folds Cross Validation**\n",
        "\n",
        "La validación cruzada proviene de la mejora del método de retención o holdout method. Este consiste en dividir en dos conjuntos complementarios los datos de muestra, realizar el análisis de un subconjunto (denominado datos de entrenamiento o training set), y validar el análisis en el otro subconjunto (denominado datos de prueba o test set), de forma que la función de aproximación sólo se ajusta con el conjunto de datos de entrenamiento y a partir de aquí calcula los valores de salida para el conjunto de datos de prueba (valores que no ha analizado antes). La ventaja de este método es que es muy rápido a la hora de computar.\n",
        "[Wikipedia](https://es.wikipedia.org/wiki/Validaci%C3%B3n_cruzada)\n",
        "\n",
        "Para el proyecto la implementación podría ser de la siguiente manera:\n",
        "\n",
        "*   Tomar el set de datos de 891 datos.\n",
        "*   Definir el valor de K en el que se dividirá el set de datos, para el ejemplo se tomará un K=30.\n",
        "*   Crear 30 grupos de aproximadamente 891/K = 891/30 = 30 registros.\n",
        "*   El algoritmo iniciara recorriendo el primer elemento cual será utilizado como pruebas por lo que los 29 grupos restantes servirán para el entrenamiento.\n",
        "*   En la siguiente iteración el grupo que sirvió como prueba formará parte del entreno  y el siguiente grupo será ahora de pruebas, este proceso se repetira hasta completar los 30 grupos en que se dividio el set de datos."
      ]
    }
  ]
}